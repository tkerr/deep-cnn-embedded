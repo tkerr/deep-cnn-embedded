{
 "cells": [
  {
   "cell_type": "markdown",
   "id": "6fdc9f81",
   "metadata": {},
   "source": [
    "# MIT-BIH-AFIB-02-sequences.ipynb\n",
    "Notebook used to identify and parse waveforms from the MIT-BIH Atrial Fibrillation Database.  \n",
    "Creates rhythm and sequence CSV files for each rhythm type.  \n",
    "See https://physionet.org/content/afdb/1.0.0/     "
   ]
  },
  {
   "cell_type": "code",
   "execution_count": 1,
   "id": "da79de81",
   "metadata": {},
   "outputs": [
    {
     "name": "stdout",
     "output_type": "stream",
     "text": [
      "OS name:            Windows 10\n",
      "Python version:     3.10.10\n",
      "Numpy version:      1.23.2\n",
      "You are here: D:\\dev\\jupyter\\deep-cnn-embedded\\src\\mit-bih-afib\n"
     ]
    }
   ],
   "source": [
    "# Environment setup.\n",
    "import os\n",
    "import sys\n",
    "import glob\n",
    "import platform\n",
    "import numpy as np\n",
    "\n",
    "import fileutils as fu\n",
    "import mit_bih_afib_db as db\n",
    "import wfdb_utils as wfu\n",
    "\n",
    "import matplotlib\n",
    "import matplotlib.pyplot as plt\n",
    "%matplotlib inline\n",
    "\n",
    "os_name = platform.system()\n",
    "print('OS name:            {} {}'.format(os_name, platform.release()))\n",
    "print('Python version:     {}.{}.{}'.format(sys.version_info[0], sys.version_info[1], sys.version_info[2]))\n",
    "print('Numpy version:      {}'.format(np.__version__))\n",
    "print('You are here: {}'.format(os.getcwd()))"
   ]
  },
  {
   "cell_type": "code",
   "execution_count": 2,
   "id": "e106613e",
   "metadata": {},
   "outputs": [],
   "source": [
    "db.LOCAL_DATA_PATH = r'E:\\Data\\MIT-BIH-AFIB\\files'\n",
    "db.LOCAL_TFRECORD_PATH = r'E:\\Data\\MIT-BIH-AFIB\\tfrecord'"
   ]
  },
  {
   "cell_type": "code",
   "execution_count": 3,
   "id": "18be495e",
   "metadata": {},
   "outputs": [],
   "source": [
    "# Function to get ECG header and annotation data.\n",
    "def get_data(filename, start=0, length=None):\n",
    "    ann = wfu.read_annotation(filename, start, length)\n",
    "    hdr = wfu.read_header(filename)\n",
    "    return ann, hdr"
   ]
  },
  {
   "cell_type": "code",
   "execution_count": 4,
   "id": "d44c8e9c",
   "metadata": {},
   "outputs": [],
   "source": [
    "# Function to count lines in a CSV file.\n",
    "def line_count(file_name):\n",
    "    count = 0\n",
    "    fd = fu.open_file(file_name)\n",
    "    for line in fd:\n",
    "        if (len(line.strip()) > 0):\n",
    "            count += 1\n",
    "    fu.close_file(fd)\n",
    "    return count"
   ]
  },
  {
   "cell_type": "markdown",
   "id": "39ae4187",
   "metadata": {},
   "source": [
    "### Create CSV files of each rhythm type  \n",
    "CSV line format: PID,rtype,start,length  "
   ]
  },
  {
   "cell_type": "code",
   "execution_count": 5,
   "id": "cafe00af",
   "metadata": {},
   "outputs": [],
   "source": [
    "# Create the rhythm CSV files.\n",
    "rhythm_fd = {}\n",
    "for rtype in db.RTYPES:\n",
    "    file_name = db.get_rhythms_file(rtype)\n",
    "    fd = fu.open_file(file_name, 'w')\n",
    "    rhythm_fd[rtype] = fd"
   ]
  },
  {
   "cell_type": "code",
   "execution_count": 7,
   "id": "44a1645c",
   "metadata": {},
   "outputs": [
    {
     "name": "stdout",
     "output_type": "stream",
     "text": [
      "04015 04043 04048 04126 04746 04908 04936 05091 05121 05261 06426 06453 06995 07162 07859 07879 07910 08215 08219 08378 08405 08434 08455 \n"
     ]
    }
   ],
   "source": [
    "# Parse the database and add entries to the rhythm CSV files.\n",
    "for pid in db.PATIENT_IDS:\n",
    "    print('{} '.format(pid), end='')\n",
    "    file_path = os.path.join(db.LOCAL_DATA_PATH, pid)\n",
    "    ann, hdr = get_data(file_path)\n",
    "    rhythm_list = wfu.parse_waveforms(ann, hdr)\n",
    "    for rhythm in rhythm_list:\n",
    "        rtype = rhythm[0]\n",
    "        csv_record = db.get_csv_record(pid, rtype, rhythm[1], rhythm[2])\n",
    "        rhythm_fd[rtype].write(csv_record)\n",
    "print()"
   ]
  },
  {
   "cell_type": "code",
   "execution_count": 8,
   "id": "2b994380",
   "metadata": {},
   "outputs": [],
   "source": [
    "# Close the rhythm files.\n",
    "for rtype in db.RTYPES:\n",
    "    fu.close_file(rhythm_fd[rtype])"
   ]
  },
  {
   "cell_type": "markdown",
   "id": "3abc3290",
   "metadata": {},
   "source": [
    "### Split the rhythms into sequences of a specified length  "
   ]
  },
  {
   "cell_type": "code",
   "execution_count": 9,
   "id": "13ac9dc0",
   "metadata": {},
   "outputs": [],
   "source": [
    "seq_length_sec = 30  # Sequence length in seconds\n",
    "seq_samples = seq_length_sec * db.FS_HZ"
   ]
  },
  {
   "cell_type": "code",
   "execution_count": 10,
   "id": "936f7736",
   "metadata": {},
   "outputs": [],
   "source": [
    "# Function to split a rhythm record into a set of sequences of a defined length.\n",
    "def get_sequences(record, seq_length):\n",
    "    seq_list = []\n",
    "    pid, rtype, start, length = record.split(',')\n",
    "    seq_length = int(seq_length)\n",
    "    start = int(start)\n",
    "    length = int(length)\n",
    "    while (length >= seq_length):\n",
    "        seq = (pid, rtype, start, seq_length)\n",
    "        seq_list.append(seq)\n",
    "        start += seq_length\n",
    "        length -= seq_length\n",
    "    return seq_list"
   ]
  },
  {
   "cell_type": "code",
   "execution_count": 14,
   "id": "914a5138",
   "metadata": {},
   "outputs": [],
   "source": [
    "for rtype in db.RTYPES:\n",
    "    # Create the sequence file.\n",
    "    seq_file = db.get_sequences_file(rtype)\n",
    "    seq_fd = fu.open_file(seq_file, 'w')\n",
    "    \n",
    "    # Open the corresponding rhythms file.\n",
    "    rhythm_file = db.get_rhythms_file(rtype)\n",
    "    rhythm_fd = fu.open_file(rhythm_file)\n",
    "    \n",
    "    # Split each line in the rhythms file into a set of sequences.\n",
    "    for line in rhythm_fd:\n",
    "        rhythm_record = line.strip()\n",
    "        if (len(rhythm_record) > 0):\n",
    "            seq_list = get_sequences(rhythm_record, seq_samples)\n",
    "            # Write the sequences to the CSV file.\n",
    "            for seq in seq_list:\n",
    "                csv_record = db.get_csv_record(seq[0], seq[1], seq[2], seq[3])\n",
    "                seq_fd.write(csv_record)\n",
    "        \n",
    "    fu.close_file(seq_fd)\n",
    "    fu.close_file(rhythm_fd)"
   ]
  },
  {
   "cell_type": "markdown",
   "id": "62635129",
   "metadata": {},
   "source": [
    "### Check the results"
   ]
  },
  {
   "cell_type": "code",
   "execution_count": 16,
   "id": "ea4ca3f3",
   "metadata": {},
   "outputs": [
    {
     "name": "stdout",
     "output_type": "stream",
     "text": [
      "E:\\Data\\MIT-BIH-AFIB\\tfrecord\\sequences_AFIB.csv: 11064\n",
      "E:\\Data\\MIT-BIH-AFIB\\tfrecord\\sequences_AFL.csv: 190\n",
      "E:\\Data\\MIT-BIH-AFIB\\tfrecord\\sequences_J.csv: 6\n",
      "E:\\Data\\MIT-BIH-AFIB\\tfrecord\\sequences_N.csv: 16554\n",
      "E:\\Data\\MIT-BIH-AFIB\\tfrecord\\sequences_Q.csv: 0\n"
     ]
    }
   ],
   "source": [
    "for rtype in db.RTYPES:\n",
    "    seq_count = 0\n",
    "    seq_file = db.get_sequences_file(rtype)\n",
    "    seq_count = line_count(seq_file)\n",
    "    print('{}: {}'.format(seq_file, seq_count))"
   ]
  },
  {
   "cell_type": "markdown",
   "id": "ac1f6e66",
   "metadata": {},
   "source": [
    "### Create ordered sequence CSV files"
   ]
  },
  {
   "cell_type": "code",
   "execution_count": 17,
   "id": "2a30f2cd",
   "metadata": {},
   "outputs": [],
   "source": [
    "# Function to get the next PID record in the sequences list given the current PID.\n",
    "def get_next_pid_record(seq_list, curr_pid):\n",
    "    for i in range(len(seq_list)):\n",
    "        seq = seq_list[i]\n",
    "        pid, rtype, start, length = seq.split(',')\n",
    "        if (pid > curr_pid):\n",
    "            return (i, pid, rtype, start, length)\n",
    "    # Did not find a non-matching PID.  Return the first sequence in the list.\n",
    "    seq = seq_list[0]\n",
    "    pid, rtype, start, length = seq.split(',')\n",
    "    return (0, pid, rtype, start, length)"
   ]
  },
  {
   "cell_type": "code",
   "execution_count": 19,
   "id": "1e4bd56e",
   "metadata": {},
   "outputs": [
    {
     "name": "stdout",
     "output_type": "stream",
     "text": [
      "AFIB\n",
      "AFL\n",
      "J\n",
      "N\n",
      "Q\n"
     ]
    }
   ],
   "source": [
    "for rtype in db.RTYPES:\n",
    "    print(rtype)\n",
    "    # Create the ordered sequences file.\n",
    "    ord_file = db.get_ordered_file(rtype)\n",
    "    ord_fd = fu.open_file(ord_file, 'w')\n",
    "    \n",
    "    # Read the corresponding sequences file into memory.\n",
    "    seq_file = db.get_sequences_file(rtype)\n",
    "    seq_fd = fu.open_file(seq_file)\n",
    "    seq_list = []\n",
    "    for line in seq_fd:\n",
    "        seq_line = line.strip()\n",
    "        if (len(seq_line) > 0):\n",
    "            seq_list.append(seq_line)\n",
    "                \n",
    "    # Get successive PID records and write them to the ordered sequences CSV file.\n",
    "    pid = ''\n",
    "    while (len(seq_list) > 0):\n",
    "        (i, pid, rtype, start, length) = get_next_pid_record(seq_list, pid)\n",
    "        csv_record = db.get_csv_record(pid, rtype, start, length)\n",
    "        ord_fd.write(csv_record)\n",
    "        seq_list.pop(i)\n",
    "        \n",
    "    fu.close_file(ord_fd)\n",
    "    fu.close_file(seq_fd)"
   ]
  },
  {
   "cell_type": "markdown",
   "id": "3c9cb83b",
   "metadata": {},
   "source": [
    "### Check the results"
   ]
  },
  {
   "cell_type": "code",
   "execution_count": 20,
   "id": "1756cc2c",
   "metadata": {},
   "outputs": [
    {
     "name": "stdout",
     "output_type": "stream",
     "text": [
      "E:\\Data\\MIT-BIH-AFIB\\tfrecord\\ordered_AFIB.csv: 11064\n",
      "E:\\Data\\MIT-BIH-AFIB\\tfrecord\\ordered_AFL.csv: 190\n",
      "E:\\Data\\MIT-BIH-AFIB\\tfrecord\\ordered_J.csv: 6\n",
      "E:\\Data\\MIT-BIH-AFIB\\tfrecord\\ordered_N.csv: 16554\n",
      "E:\\Data\\MIT-BIH-AFIB\\tfrecord\\ordered_Q.csv: 0\n"
     ]
    }
   ],
   "source": [
    "for rtype in db.RTYPES:\n",
    "    ord_count = 0\n",
    "    ord_file = db.get_ordered_file(rtype)\n",
    "    ord_count = line_count(ord_file)\n",
    "    print('{}: {}'.format(ord_file, ord_count))"
   ]
  },
  {
   "cell_type": "code",
   "execution_count": null,
   "id": "dd58c5c3",
   "metadata": {},
   "outputs": [],
   "source": []
  }
 ],
 "metadata": {
  "kernelspec": {
   "display_name": "Python 3 (ipykernel)",
   "language": "python",
   "name": "python3"
  },
  "language_info": {
   "codemirror_mode": {
    "name": "ipython",
    "version": 3
   },
   "file_extension": ".py",
   "mimetype": "text/x-python",
   "name": "python",
   "nbconvert_exporter": "python",
   "pygments_lexer": "ipython3",
   "version": "3.10.10"
  }
 },
 "nbformat": 4,
 "nbformat_minor": 5
}

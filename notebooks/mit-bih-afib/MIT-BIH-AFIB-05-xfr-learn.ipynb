{
 "cells": [
  {
   "cell_type": "markdown",
   "id": "6fdc9f81",
   "metadata": {},
   "source": [
    "# MIT-BIH-AFIB-05-xfr-learn.ipynb\n",
    "Experiment with transfer learning using datasets from the MIT-BIH Atrial Fibrillation Database.   \n",
    "See https://physionet.org/content/afdb/1.0.0/  "
   ]
  },
  {
   "cell_type": "code",
   "execution_count": 1,
   "id": "da79de81",
   "metadata": {},
   "outputs": [
    {
     "name": "stdout",
     "output_type": "stream",
     "text": [
      "OS name:            Windows 10\n",
      "Python version:     3.10.10\n",
      "TensorFlow version: 2.10.0\n",
      "Numpy version:      1.23.2\n",
      "You are here: D:\\dev\\jupyter\\deep-cnn-embedded\\src\\mit-bih-afib\n"
     ]
    }
   ],
   "source": [
    "# Environment setup.\n",
    "import os\n",
    "import re\n",
    "import sys\n",
    "import platform\n",
    "import numpy as np\n",
    "\n",
    "import tensorflow as tf\n",
    "from tensorflow.keras.models import Model\n",
    "from tensorflow.keras.layers import Dense\n",
    "from tensorflow.keras.callbacks import EarlyStopping, ModelCheckpoint, ReduceLROnPlateau\n",
    "\n",
    "from sklearn.metrics import classification_report, confusion_matrix, roc_curve, auc\n",
    "\n",
    "import fileutils as fu\n",
    "import model_utils as mu\n",
    "import mit_bih_afib_db as db\n",
    "import mit_bih_afib_tfrecord as tfr\n",
    "\n",
    "import matplotlib\n",
    "import matplotlib.pyplot as plt\n",
    "%matplotlib inline\n",
    "\n",
    "os_name = platform.system()\n",
    "print('OS name:            {} {}'.format(os_name, platform.release()))\n",
    "print('Python version:     {}.{}.{}'.format(sys.version_info[0], sys.version_info[1], sys.version_info[2]))\n",
    "print('TensorFlow version: {}'.format(tf.__version__))\n",
    "print('Numpy version:      {}'.format(np.__version__))\n",
    "print('You are here: {}'.format(os.getcwd()))"
   ]
  },
  {
   "cell_type": "code",
   "execution_count": 2,
   "id": "e106613e",
   "metadata": {},
   "outputs": [],
   "source": [
    "# Set the local data paths based on our environment.\n",
    "if (os_name == 'Windows'):\n",
    "    DATASET_PATH_ROOT = r'E:/Data/MIT-BIH-AFIB'\n",
    "    db.LOCAL_TFRECORD_PATH = os.path.join(DATASET_PATH_ROOT, 'tfrecord')\n",
    "else:\n",
    "    DATASET_PATH_ROOT = os.getcwd()\n",
    "    db.LOCAL_TFRECORD_PATH = os.path.join(DATASET_PATH_ROOT, 'tfrecord')"
   ]
  },
  {
   "cell_type": "code",
   "execution_count": 3,
   "id": "bfa13570",
   "metadata": {},
   "outputs": [],
   "source": [
    "# ECG parameters.\n",
    "tfr.ECG_LENGTH = 7500\n",
    "tfr.ECG_FEATURE = 'ecg_fir_z'\n",
    "\n",
    "LABELS = {'N':0, 'AFIB':1}         # Data labels\n",
    "CLASS_NAMES = list(LABELS.keys())  # Class names in same order as labels\n",
    "NUM_CLASSES = len(LABELS)"
   ]
  },
  {
   "cell_type": "markdown",
   "id": "17153b20",
   "metadata": {},
   "source": [
    "### Create train, test, and validation datasets from previously generated files  "
   ]
  },
  {
   "cell_type": "code",
   "execution_count": 4,
   "id": "1e5dd729",
   "metadata": {},
   "outputs": [
    {
     "name": "stdout",
     "output_type": "stream",
     "text": [
      "Train size:      9956\n",
      "Test size:       554\n",
      "Validation size: 554\n"
     ]
    }
   ],
   "source": [
    "train_file = os.path.join(db.LOCAL_TFRECORD_PATH, 'tfrecord_train_list.csv')\n",
    "test_file = os.path.join(db.LOCAL_TFRECORD_PATH, 'tfrecord_test_list.csv')\n",
    "val_file = os.path.join(db.LOCAL_TFRECORD_PATH, 'tfrecord_val_list.csv')\n",
    "train_list, test_list, val_list = tfr.get_tfrecord_lists(train_file, test_file, val_file, path=DATASET_PATH_ROOT)\n",
    "train_size = len(train_list)\n",
    "test_size = len(test_list)\n",
    "val_size = len(val_list)\n",
    "print('Train size:      {}'.format(train_size))\n",
    "print('Test size:       {}'.format(test_size))\n",
    "print('Validation size: {}'.format(val_size))"
   ]
  },
  {
   "cell_type": "code",
   "execution_count": 5,
   "id": "2adb454a",
   "metadata": {},
   "outputs": [
    {
     "name": "stdout",
     "output_type": "stream",
     "text": [
      "Training:   311 batches of 32 = 9952 examples\n",
      "Validation: 17 batches of 32 = 544 examples\n"
     ]
    }
   ],
   "source": [
    "batch_size = 32\n",
    "buffer_size = train_size // batch_size\n",
    "val_step_size = val_size // batch_size\n",
    "print('Training:   {} batches of {} = {} examples'.format(buffer_size, batch_size, buffer_size*batch_size))\n",
    "print('Validation: {} batches of {} = {} examples'.format(val_step_size, batch_size, val_step_size*batch_size))"
   ]
  },
  {
   "cell_type": "code",
   "execution_count": 6,
   "id": "29135db2",
   "metadata": {},
   "outputs": [],
   "source": [
    "# Function to check the dataset one-hot output.\n",
    "def check_one_hot(dataset):\n",
    "    count = 0\n",
    "    for ds in dataset:\n",
    "        count += 1\n",
    "        one_hot = ds[1]\n",
    "        if (np.sum(one_hot) != 1.):\n",
    "            print('Data set error at record {}'.format(count))\n",
    "            break"
   ]
  },
  {
   "cell_type": "code",
   "execution_count": 7,
   "id": "02a8519d",
   "metadata": {},
   "outputs": [
    {
     "name": "stdout",
     "output_type": "stream",
     "text": [
      "Checking training dataset\n",
      "Checking test dataset\n",
      "Checking validation dataset\n"
     ]
    }
   ],
   "source": [
    "check_dataset = True\n",
    "train_ds = tf.data.TFRecordDataset(train_list)\n",
    "train_ds = train_ds.map(tfr.ecg_map_2class)\n",
    "if check_dataset:\n",
    "    print('Checking training dataset')\n",
    "    check_one_hot(train_ds)\n",
    "train_ds = train_ds.shuffle(buffer_size)\n",
    "train_ds = train_ds.batch(batch_size, drop_remainder=True)\n",
    "\n",
    "test_ds = tf.data.TFRecordDataset(test_list)\n",
    "test_ds = test_ds.map(tfr.ecg_map_2class)\n",
    "if check_dataset:\n",
    "    print('Checking test dataset')\n",
    "    check_one_hot(test_ds)\n",
    "test_ds = test_ds.batch(batch_size=1, drop_remainder=True)\n",
    "\n",
    "val_ds = tf.data.TFRecordDataset(val_list)\n",
    "val_ds = val_ds.map(tfr.ecg_map_2class)\n",
    "if check_dataset:\n",
    "    print('Checking validation dataset')\n",
    "    check_one_hot(val_ds)\n",
    "val_ds = val_ds.batch(batch_size, drop_remainder=True)"
   ]
  },
  {
   "cell_type": "markdown",
   "id": "dad55b0f",
   "metadata": {},
   "source": [
    "### Load a previously trained model"
   ]
  },
  {
   "cell_type": "code",
   "execution_count": 8,
   "id": "37318c0b",
   "metadata": {},
   "outputs": [],
   "source": [
    "model_dir = os.path.abspath('../Icentia11k/checkpoint/InceptionTimeNetV4-D05')\n",
    "model_file = os.path.join(model_dir, 'InceptionTimeNetV4-D05.h5')\n",
    "weights_file = os.path.join(model_dir, 'weights-it01-0033.h5')"
   ]
  },
  {
   "cell_type": "code",
   "execution_count": 9,
   "id": "36f59cd5",
   "metadata": {},
   "outputs": [
    {
     "name": "stdout",
     "output_type": "stream",
     "text": [
      "Model: \"InceptionTimeNetV4-D05\"\n",
      "________________________________________________________________________________________________________________________\n",
      " Layer (type)                          Output Shape               Param #       Connected to                            \n",
      "========================================================================================================================\n",
      " ecg_input (InputLayer)                [(None, 7500, 1)]          0             []                                      \n",
      "                                                                                                                        \n",
      " Conv1_1 (Conv1D)                      (None, 7500, 32)           288           ['ecg_input[0][0]']                     \n",
      "                                                                                                                        \n",
      " Conv2_1 (Conv1D)                      (None, 7500, 32)           544           ['ecg_input[0][0]']                     \n",
      "                                                                                                                        \n",
      " Conv3_1 (Conv1D)                      (None, 7500, 32)           1056          ['ecg_input[0][0]']                     \n",
      "                                                                                                                        \n",
      " Conv4_1 (Conv1D)                      (None, 7500, 32)           2080          ['ecg_input[0][0]']                     \n",
      "                                                                                                                        \n",
      " BN1_1 (BatchNormalization)            (None, 7500, 32)           128           ['Conv1_1[0][0]']                       \n",
      "                                                                                                                        \n",
      " BN2_1 (BatchNormalization)            (None, 7500, 32)           128           ['Conv2_1[0][0]']                       \n",
      "                                                                                                                        \n",
      " BN3_1 (BatchNormalization)            (None, 7500, 32)           128           ['Conv3_1[0][0]']                       \n",
      "                                                                                                                        \n",
      " BN4_1 (BatchNormalization)            (None, 7500, 32)           128           ['Conv4_1[0][0]']                       \n",
      "                                                                                                                        \n",
      " ReLU1_1 (ReLU)                        (None, 7500, 32)           0             ['BN1_1[0][0]']                         \n",
      "                                                                                                                        \n",
      " ReLU2_1 (ReLU)                        (None, 7500, 32)           0             ['BN2_1[0][0]']                         \n",
      "                                                                                                                        \n",
      " ReLU3_1 (ReLU)                        (None, 7500, 32)           0             ['BN3_1[0][0]']                         \n",
      "                                                                                                                        \n",
      " ReLU4_1 (ReLU)                        (None, 7500, 32)           0             ['BN4_1[0][0]']                         \n",
      "                                                                                                                        \n",
      " MaxPool_1 (MaxPooling1D)              (None, 7500, 1)            0             ['ecg_input[0][0]']                     \n",
      "                                                                                                                        \n",
      " Drop1_1 (Dropout)                     (None, 7500, 32)           0             ['ReLU1_1[0][0]']                       \n",
      "                                                                                                                        \n",
      " Drop2_1 (Dropout)                     (None, 7500, 32)           0             ['ReLU2_1[0][0]']                       \n",
      "                                                                                                                        \n",
      " Drop3_1 (Dropout)                     (None, 7500, 32)           0             ['ReLU3_1[0][0]']                       \n",
      "                                                                                                                        \n",
      " Drop4_1 (Dropout)                     (None, 7500, 32)           0             ['ReLU4_1[0][0]']                       \n",
      "                                                                                                                        \n",
      " Conv_skip_1 (Conv1D)                  (None, 7500, 32)           64            ['MaxPool_1[0][0]']                     \n",
      "                                                                                                                        \n",
      " Concat_1 (Concatenate)                (None, 7500, 160)          0             ['Drop1_1[0][0]',                       \n",
      "                                                                                 'Drop2_1[0][0]',                       \n",
      "                                                                                 'Drop3_1[0][0]',                       \n",
      "                                                                                 'Drop4_1[0][0]',                       \n",
      "                                                                                 'Conv_skip_1[0][0]']                   \n",
      "                                                                                                                        \n",
      " Conv1_2 (Conv1D)                      (None, 3750, 32)           40992         ['Concat_1[0][0]']                      \n",
      "                                                                                                                        \n",
      " Conv2_2 (Conv1D)                      (None, 3750, 32)           81952         ['Concat_1[0][0]']                      \n",
      "                                                                                                                        \n",
      " Conv3_2 (Conv1D)                      (None, 3750, 32)           163872        ['Concat_1[0][0]']                      \n",
      "                                                                                                                        \n",
      " Conv4_2 (Conv1D)                      (None, 3750, 32)           327712        ['Concat_1[0][0]']                      \n",
      "                                                                                                                        \n",
      " BN1_2 (BatchNormalization)            (None, 3750, 32)           128           ['Conv1_2[0][0]']                       \n",
      "                                                                                                                        \n",
      " BN2_2 (BatchNormalization)            (None, 3750, 32)           128           ['Conv2_2[0][0]']                       \n",
      "                                                                                                                        \n",
      " BN3_2 (BatchNormalization)            (None, 3750, 32)           128           ['Conv3_2[0][0]']                       \n",
      "                                                                                                                        \n",
      " BN4_2 (BatchNormalization)            (None, 3750, 32)           128           ['Conv4_2[0][0]']                       \n",
      "                                                                                                                        \n",
      " ReLU1_2 (ReLU)                        (None, 3750, 32)           0             ['BN1_2[0][0]']                         \n",
      "                                                                                                                        \n",
      " ReLU2_2 (ReLU)                        (None, 3750, 32)           0             ['BN2_2[0][0]']                         \n",
      "                                                                                                                        \n",
      " ReLU3_2 (ReLU)                        (None, 3750, 32)           0             ['BN3_2[0][0]']                         \n"
     ]
    },
    {
     "name": "stdout",
     "output_type": "stream",
     "text": [
      "                                                                                                                        \n",
      " ReLU4_2 (ReLU)                        (None, 3750, 32)           0             ['BN4_2[0][0]']                         \n",
      "                                                                                                                        \n",
      " MaxPool_2 (MaxPooling1D)              (None, 7500, 160)          0             ['Concat_1[0][0]']                      \n",
      "                                                                                                                        \n",
      " Drop1_2 (Dropout)                     (None, 3750, 32)           0             ['ReLU1_2[0][0]']                       \n",
      "                                                                                                                        \n",
      " Drop2_2 (Dropout)                     (None, 3750, 32)           0             ['ReLU2_2[0][0]']                       \n",
      "                                                                                                                        \n",
      " Drop3_2 (Dropout)                     (None, 3750, 32)           0             ['ReLU3_2[0][0]']                       \n",
      "                                                                                                                        \n",
      " Drop4_2 (Dropout)                     (None, 3750, 32)           0             ['ReLU4_2[0][0]']                       \n",
      "                                                                                                                        \n",
      " Conv_skip_2 (Conv1D)                  (None, 3750, 32)           5152          ['MaxPool_2[0][0]']                     \n",
      "                                                                                                                        \n",
      " Concat_2 (Concatenate)                (None, 3750, 160)          0             ['Drop1_2[0][0]',                       \n",
      "                                                                                 'Drop2_2[0][0]',                       \n",
      "                                                                                 'Drop3_2[0][0]',                       \n",
      "                                                                                 'Drop4_2[0][0]',                       \n",
      "                                                                                 'Conv_skip_2[0][0]']                   \n",
      "                                                                                                                        \n",
      " Conv1_3 (Conv1D)                      (None, 1875, 32)           40992         ['Concat_2[0][0]']                      \n",
      "                                                                                                                        \n",
      " Conv2_3 (Conv1D)                      (None, 1875, 32)           81952         ['Concat_2[0][0]']                      \n",
      "                                                                                                                        \n",
      " Conv3_3 (Conv1D)                      (None, 1875, 32)           163872        ['Concat_2[0][0]']                      \n",
      "                                                                                                                        \n",
      " Conv4_3 (Conv1D)                      (None, 1875, 32)           327712        ['Concat_2[0][0]']                      \n",
      "                                                                                                                        \n",
      " BN1_3 (BatchNormalization)            (None, 1875, 32)           128           ['Conv1_3[0][0]']                       \n",
      "                                                                                                                        \n",
      " BN2_3 (BatchNormalization)            (None, 1875, 32)           128           ['Conv2_3[0][0]']                       \n",
      "                                                                                                                        \n",
      " BN3_3 (BatchNormalization)            (None, 1875, 32)           128           ['Conv3_3[0][0]']                       \n",
      "                                                                                                                        \n",
      " BN4_3 (BatchNormalization)            (None, 1875, 32)           128           ['Conv4_3[0][0]']                       \n",
      "                                                                                                                        \n",
      " ReLU1_3 (ReLU)                        (None, 1875, 32)           0             ['BN1_3[0][0]']                         \n",
      "                                                                                                                        \n",
      " ReLU2_3 (ReLU)                        (None, 1875, 32)           0             ['BN2_3[0][0]']                         \n",
      "                                                                                                                        \n",
      " ReLU3_3 (ReLU)                        (None, 1875, 32)           0             ['BN3_3[0][0]']                         \n",
      "                                                                                                                        \n",
      " ReLU4_3 (ReLU)                        (None, 1875, 32)           0             ['BN4_3[0][0]']                         \n",
      "                                                                                                                        \n",
      " MaxPool_3 (MaxPooling1D)              (None, 3750, 160)          0             ['Concat_2[0][0]']                      \n",
      "                                                                                                                        \n",
      " Drop1_3 (Dropout)                     (None, 1875, 32)           0             ['ReLU1_3[0][0]']                       \n",
      "                                                                                                                        \n",
      " Drop2_3 (Dropout)                     (None, 1875, 32)           0             ['ReLU2_3[0][0]']                       \n",
      "                                                                                                                        \n",
      " Drop3_3 (Dropout)                     (None, 1875, 32)           0             ['ReLU3_3[0][0]']                       \n",
      "                                                                                                                        \n",
      " Drop4_3 (Dropout)                     (None, 1875, 32)           0             ['ReLU4_3[0][0]']                       \n",
      "                                                                                                                        \n",
      " Conv_skip_3 (Conv1D)                  (None, 1875, 32)           5152          ['MaxPool_3[0][0]']                     \n",
      "                                                                                                                        \n",
      " Concat_3 (Concatenate)                (None, 1875, 160)          0             ['Drop1_3[0][0]',                       \n",
      "                                                                                 'Drop2_3[0][0]',                       \n",
      "                                                                                 'Drop3_3[0][0]',                       \n",
      "                                                                                 'Drop4_3[0][0]',                       \n",
      "                                                                                 'Conv_skip_3[0][0]']                   \n",
      "                                                                                                                        \n",
      " Pad_4 (ZeroPadding1D)                 (None, 1876, 160)          0             ['Concat_3[0][0]']                      \n",
      "                                                                                                                        \n",
      " Conv1_4 (Conv1D)                      (None, 938, 32)            40992         ['Pad_4[0][0]']                         \n",
      "                                                                                                                        \n",
      " Conv2_4 (Conv1D)                      (None, 938, 32)            81952         ['Pad_4[0][0]']                         \n"
     ]
    },
    {
     "name": "stdout",
     "output_type": "stream",
     "text": [
      "                                                                                                                        \n",
      " Conv3_4 (Conv1D)                      (None, 938, 32)            163872        ['Pad_4[0][0]']                         \n",
      "                                                                                                                        \n",
      " Conv4_4 (Conv1D)                      (None, 938, 32)            327712        ['Pad_4[0][0]']                         \n",
      "                                                                                                                        \n",
      " BN1_4 (BatchNormalization)            (None, 938, 32)            128           ['Conv1_4[0][0]']                       \n",
      "                                                                                                                        \n",
      " BN2_4 (BatchNormalization)            (None, 938, 32)            128           ['Conv2_4[0][0]']                       \n",
      "                                                                                                                        \n",
      " BN3_4 (BatchNormalization)            (None, 938, 32)            128           ['Conv3_4[0][0]']                       \n",
      "                                                                                                                        \n",
      " BN4_4 (BatchNormalization)            (None, 938, 32)            128           ['Conv4_4[0][0]']                       \n",
      "                                                                                                                        \n",
      " ReLU1_4 (ReLU)                        (None, 938, 32)            0             ['BN1_4[0][0]']                         \n",
      "                                                                                                                        \n",
      " ReLU2_4 (ReLU)                        (None, 938, 32)            0             ['BN2_4[0][0]']                         \n",
      "                                                                                                                        \n",
      " ReLU3_4 (ReLU)                        (None, 938, 32)            0             ['BN3_4[0][0]']                         \n",
      "                                                                                                                        \n",
      " ReLU4_4 (ReLU)                        (None, 938, 32)            0             ['BN4_4[0][0]']                         \n",
      "                                                                                                                        \n",
      " MaxPool_4 (MaxPooling1D)              (None, 1876, 160)          0             ['Pad_4[0][0]']                         \n",
      "                                                                                                                        \n",
      " Drop1_4 (Dropout)                     (None, 938, 32)            0             ['ReLU1_4[0][0]']                       \n",
      "                                                                                                                        \n",
      " Drop2_4 (Dropout)                     (None, 938, 32)            0             ['ReLU2_4[0][0]']                       \n",
      "                                                                                                                        \n",
      " Drop3_4 (Dropout)                     (None, 938, 32)            0             ['ReLU3_4[0][0]']                       \n",
      "                                                                                                                        \n",
      " Drop4_4 (Dropout)                     (None, 938, 32)            0             ['ReLU4_4[0][0]']                       \n",
      "                                                                                                                        \n",
      " Conv_skip_4 (Conv1D)                  (None, 938, 32)            5152          ['MaxPool_4[0][0]']                     \n",
      "                                                                                                                        \n",
      " Concat_4 (Concatenate)                (None, 938, 160)           0             ['Drop1_4[0][0]',                       \n",
      "                                                                                 'Drop2_4[0][0]',                       \n",
      "                                                                                 'Drop3_4[0][0]',                       \n",
      "                                                                                 'Drop4_4[0][0]',                       \n",
      "                                                                                 'Conv_skip_4[0][0]']                   \n",
      "                                                                                                                        \n",
      " Conv1_5 (Conv1D)                      (None, 469, 32)            40992         ['Concat_4[0][0]']                      \n",
      "                                                                                                                        \n",
      " Conv2_5 (Conv1D)                      (None, 469, 32)            81952         ['Concat_4[0][0]']                      \n",
      "                                                                                                                        \n",
      " Conv3_5 (Conv1D)                      (None, 469, 32)            163872        ['Concat_4[0][0]']                      \n",
      "                                                                                                                        \n",
      " Conv4_5 (Conv1D)                      (None, 469, 32)            327712        ['Concat_4[0][0]']                      \n",
      "                                                                                                                        \n",
      " BN1_5 (BatchNormalization)            (None, 469, 32)            128           ['Conv1_5[0][0]']                       \n",
      "                                                                                                                        \n",
      " BN2_5 (BatchNormalization)            (None, 469, 32)            128           ['Conv2_5[0][0]']                       \n",
      "                                                                                                                        \n",
      " BN3_5 (BatchNormalization)            (None, 469, 32)            128           ['Conv3_5[0][0]']                       \n",
      "                                                                                                                        \n",
      " BN4_5 (BatchNormalization)            (None, 469, 32)            128           ['Conv4_5[0][0]']                       \n",
      "                                                                                                                        \n",
      " ReLU1_5 (ReLU)                        (None, 469, 32)            0             ['BN1_5[0][0]']                         \n",
      "                                                                                                                        \n",
      " ReLU2_5 (ReLU)                        (None, 469, 32)            0             ['BN2_5[0][0]']                         \n",
      "                                                                                                                        \n",
      " ReLU3_5 (ReLU)                        (None, 469, 32)            0             ['BN3_5[0][0]']                         \n",
      "                                                                                                                        \n",
      " ReLU4_5 (ReLU)                        (None, 469, 32)            0             ['BN4_5[0][0]']                         \n",
      "                                                                                                                        \n",
      " MaxPool_5 (MaxPooling1D)              (None, 938, 160)           0             ['Concat_4[0][0]']                      \n",
      "                                                                                                                        \n",
      " Drop1_5 (Dropout)                     (None, 469, 32)            0             ['ReLU1_5[0][0]']                       \n",
      "                                                                                                                        \n",
      " Drop2_5 (Dropout)                     (None, 469, 32)            0             ['ReLU2_5[0][0]']                       \n"
     ]
    },
    {
     "name": "stdout",
     "output_type": "stream",
     "text": [
      "                                                                                                                        \n",
      " Drop3_5 (Dropout)                     (None, 469, 32)            0             ['ReLU3_5[0][0]']                       \n",
      "                                                                                                                        \n",
      " Drop4_5 (Dropout)                     (None, 469, 32)            0             ['ReLU4_5[0][0]']                       \n",
      "                                                                                                                        \n",
      " Conv_skip_5 (Conv1D)                  (None, 469, 32)            5152          ['MaxPool_5[0][0]']                     \n",
      "                                                                                                                        \n",
      " Concat_5 (Concatenate)                (None, 469, 160)           0             ['Drop1_5[0][0]',                       \n",
      "                                                                                 'Drop2_5[0][0]',                       \n",
      "                                                                                 'Drop3_5[0][0]',                       \n",
      "                                                                                 'Drop4_5[0][0]',                       \n",
      "                                                                                 'Conv_skip_5[0][0]']                   \n",
      "                                                                                                                        \n",
      " AvgPool (GlobalAveragePooling1D)      (None, 160)                0             ['Concat_5[0][0]']                      \n",
      "                                                                                                                        \n",
      " FC_6 (Dense)                          (None, 128)                20608         ['AvgPool[0][0]']                       \n",
      "                                                                                                                        \n",
      " Drop_6 (Dropout)                      (None, 128)                0             ['FC_6[0][0]']                          \n",
      "                                                                                                                        \n",
      " FC_7 (Dense)                          (None, 64)                 8256          ['Drop_6[0][0]']                        \n",
      "                                                                                                                        \n",
      " Drop_7 (Dropout)                      (None, 64)                 0             ['FC_7[0][0]']                          \n",
      "                                                                                                                        \n",
      " FC_8 (Dense)                          (None, 16)                 1040          ['Drop_7[0][0]']                        \n",
      "                                                                                                                        \n",
      " FC_9 (Dense)                          (None, 4)                  68            ['FC_8[0][0]']                          \n",
      "                                                                                                                        \n",
      "========================================================================================================================\n",
      "Total params: 2,515,284\n",
      "Trainable params: 2,514,004\n",
      "Non-trainable params: 1,280\n",
      "________________________________________________________________________________________________________________________\n"
     ]
    }
   ],
   "source": [
    "# Load the model and its weights.\n",
    "orig_model = mu.load_model(model_file)\n",
    "mu.load_weights(orig_model, weights_file)\n",
    "orig_model.summary(line_length=120)"
   ]
  },
  {
   "cell_type": "markdown",
   "id": "6e3576c7",
   "metadata": {},
   "source": [
    "### Modify the model for transfer learning"
   ]
  },
  {
   "cell_type": "code",
   "execution_count": 10,
   "id": "c97712df",
   "metadata": {},
   "outputs": [
    {
     "name": "stdout",
     "output_type": "stream",
     "text": [
      "Checkpoint directory: D:\\dev\\jupyter\\MIT-BIH-AFIB\\checkpoint\\InceptionTimeNetV4-D05-new\n"
     ]
    }
   ],
   "source": [
    "# File paths and names.\n",
    "model_name = orig_model.name + '-new'\n",
    "checkpoint_dir = os.path.join(os.getcwd(), 'checkpoint', model_name)\n",
    "model_file_base = os.path.join(checkpoint_dir, model_name)\n",
    "fu.mkpath(checkpoint_dir)\n",
    "print('Checkpoint directory: {}'.format(checkpoint_dir))"
   ]
  },
  {
   "cell_type": "code",
   "execution_count": 33,
   "id": "e24f1107",
   "metadata": {},
   "outputs": [
    {
     "name": "stdout",
     "output_type": "stream",
     "text": [
      "Model: \"InceptionTimeNetV4-D05-new\"\n",
      "_______________________________________________________________________________________________________________\n",
      " Layer (type)                    Output Shape          Param #     Connected to                     Trainable  \n",
      "===============================================================================================================\n",
      " ecg_input (InputLayer)          [(None, 7500, 1)]     0           []                               N          \n",
      "                                                                                                               \n",
      " Conv1_1 (Conv1D)                (None, 7500, 32)      288         ['ecg_input[0][0]']              N          \n",
      "                                                                                                               \n",
      " Conv2_1 (Conv1D)                (None, 7500, 32)      544         ['ecg_input[0][0]']              N          \n",
      "                                                                                                               \n",
      " Conv3_1 (Conv1D)                (None, 7500, 32)      1056        ['ecg_input[0][0]']              N          \n",
      "                                                                                                               \n",
      " Conv4_1 (Conv1D)                (None, 7500, 32)      2080        ['ecg_input[0][0]']              N          \n",
      "                                                                                                               \n",
      " BN1_1 (BatchNormalization)      (None, 7500, 32)      128         ['Conv1_1[0][0]']                N          \n",
      "                                                                                                               \n",
      " BN2_1 (BatchNormalization)      (None, 7500, 32)      128         ['Conv2_1[0][0]']                N          \n",
      "                                                                                                               \n",
      " BN3_1 (BatchNormalization)      (None, 7500, 32)      128         ['Conv3_1[0][0]']                N          \n",
      "                                                                                                               \n",
      " BN4_1 (BatchNormalization)      (None, 7500, 32)      128         ['Conv4_1[0][0]']                N          \n",
      "                                                                                                               \n",
      " ReLU1_1 (ReLU)                  (None, 7500, 32)      0           ['BN1_1[0][0]']                  N          \n",
      "                                                                                                               \n",
      " ReLU2_1 (ReLU)                  (None, 7500, 32)      0           ['BN2_1[0][0]']                  N          \n",
      "                                                                                                               \n",
      " ReLU3_1 (ReLU)                  (None, 7500, 32)      0           ['BN3_1[0][0]']                  N          \n",
      "                                                                                                               \n",
      " ReLU4_1 (ReLU)                  (None, 7500, 32)      0           ['BN4_1[0][0]']                  N          \n",
      "                                                                                                               \n",
      " MaxPool_1 (MaxPooling1D)        (None, 7500, 1)       0           ['ecg_input[0][0]']              N          \n",
      "                                                                                                               \n",
      " Drop1_1 (Dropout)               (None, 7500, 32)      0           ['ReLU1_1[0][0]']                N          \n",
      "                                                                                                               \n",
      " Drop2_1 (Dropout)               (None, 7500, 32)      0           ['ReLU2_1[0][0]']                N          \n",
      "                                                                                                               \n",
      " Drop3_1 (Dropout)               (None, 7500, 32)      0           ['ReLU3_1[0][0]']                N          \n",
      "                                                                                                               \n",
      " Drop4_1 (Dropout)               (None, 7500, 32)      0           ['ReLU4_1[0][0]']                N          \n",
      "                                                                                                               \n",
      " Conv_skip_1 (Conv1D)            (None, 7500, 32)      64          ['MaxPool_1[0][0]']              N          \n",
      "                                                                                                               \n",
      " Concat_1 (Concatenate)          (None, 7500, 160)     0           ['Drop1_1[0][0]',                N          \n",
      "                                                                    'Drop2_1[0][0]',                           \n",
      "                                                                    'Drop3_1[0][0]',                           \n",
      "                                                                    'Drop4_1[0][0]',                           \n",
      "                                                                    'Conv_skip_1[0][0]']                       \n",
      "                                                                                                               \n",
      " Conv1_2 (Conv1D)                (None, 3750, 32)      40992       ['Concat_1[0][0]']               N          \n",
      "                                                                                                               \n",
      " Conv2_2 (Conv1D)                (None, 3750, 32)      81952       ['Concat_1[0][0]']               N          \n",
      "                                                                                                               \n",
      " Conv3_2 (Conv1D)                (None, 3750, 32)      163872      ['Concat_1[0][0]']               N          \n",
      "                                                                                                               \n",
      " Conv4_2 (Conv1D)                (None, 3750, 32)      327712      ['Concat_1[0][0]']               N          \n",
      "                                                                                                               \n",
      " BN1_2 (BatchNormalization)      (None, 3750, 32)      128         ['Conv1_2[0][0]']                N          \n",
      "                                                                                                               \n",
      " BN2_2 (BatchNormalization)      (None, 3750, 32)      128         ['Conv2_2[0][0]']                N          \n",
      "                                                                                                               \n",
      " BN3_2 (BatchNormalization)      (None, 3750, 32)      128         ['Conv3_2[0][0]']                N          \n",
      "                                                                                                               \n",
      " BN4_2 (BatchNormalization)      (None, 3750, 32)      128         ['Conv4_2[0][0]']                N          \n",
      "                                                                                                               \n",
      " ReLU1_2 (ReLU)                  (None, 3750, 32)      0           ['BN1_2[0][0]']                  N          \n",
      "                                                                                                               \n",
      " ReLU2_2 (ReLU)                  (None, 3750, 32)      0           ['BN2_2[0][0]']                  N          \n",
      "                                                                                                               \n",
      " ReLU3_2 (ReLU)                  (None, 3750, 32)      0           ['BN3_2[0][0]']                  N          \n",
      "                                                                                                               \n",
      " ReLU4_2 (ReLU)                  (None, 3750, 32)      0           ['BN4_2[0][0]']                  N          \n",
      "                                                                                                               \n",
      " MaxPool_2 (MaxPooling1D)        (None, 7500, 160)     0           ['Concat_1[0][0]']               N          \n",
      "                                                                                                               \n"
     ]
    },
    {
     "name": "stdout",
     "output_type": "stream",
     "text": [
      " Drop1_2 (Dropout)               (None, 3750, 32)      0           ['ReLU1_2[0][0]']                N          \n",
      "                                                                                                               \n",
      " Drop2_2 (Dropout)               (None, 3750, 32)      0           ['ReLU2_2[0][0]']                N          \n",
      "                                                                                                               \n",
      " Drop3_2 (Dropout)               (None, 3750, 32)      0           ['ReLU3_2[0][0]']                N          \n",
      "                                                                                                               \n",
      " Drop4_2 (Dropout)               (None, 3750, 32)      0           ['ReLU4_2[0][0]']                N          \n",
      "                                                                                                               \n",
      " Conv_skip_2 (Conv1D)            (None, 3750, 32)      5152        ['MaxPool_2[0][0]']              N          \n",
      "                                                                                                               \n",
      " Concat_2 (Concatenate)          (None, 3750, 160)     0           ['Drop1_2[0][0]',                N          \n",
      "                                                                    'Drop2_2[0][0]',                           \n",
      "                                                                    'Drop3_2[0][0]',                           \n",
      "                                                                    'Drop4_2[0][0]',                           \n",
      "                                                                    'Conv_skip_2[0][0]']                       \n",
      "                                                                                                               \n",
      " Conv1_3 (Conv1D)                (None, 1875, 32)      40992       ['Concat_2[0][0]']               N          \n",
      "                                                                                                               \n",
      " Conv2_3 (Conv1D)                (None, 1875, 32)      81952       ['Concat_2[0][0]']               N          \n",
      "                                                                                                               \n",
      " Conv3_3 (Conv1D)                (None, 1875, 32)      163872      ['Concat_2[0][0]']               N          \n",
      "                                                                                                               \n",
      " Conv4_3 (Conv1D)                (None, 1875, 32)      327712      ['Concat_2[0][0]']               N          \n",
      "                                                                                                               \n",
      " BN1_3 (BatchNormalization)      (None, 1875, 32)      128         ['Conv1_3[0][0]']                N          \n",
      "                                                                                                               \n",
      " BN2_3 (BatchNormalization)      (None, 1875, 32)      128         ['Conv2_3[0][0]']                N          \n",
      "                                                                                                               \n",
      " BN3_3 (BatchNormalization)      (None, 1875, 32)      128         ['Conv3_3[0][0]']                N          \n",
      "                                                                                                               \n",
      " BN4_3 (BatchNormalization)      (None, 1875, 32)      128         ['Conv4_3[0][0]']                N          \n",
      "                                                                                                               \n",
      " ReLU1_3 (ReLU)                  (None, 1875, 32)      0           ['BN1_3[0][0]']                  N          \n",
      "                                                                                                               \n",
      " ReLU2_3 (ReLU)                  (None, 1875, 32)      0           ['BN2_3[0][0]']                  N          \n",
      "                                                                                                               \n",
      " ReLU3_3 (ReLU)                  (None, 1875, 32)      0           ['BN3_3[0][0]']                  N          \n",
      "                                                                                                               \n",
      " ReLU4_3 (ReLU)                  (None, 1875, 32)      0           ['BN4_3[0][0]']                  N          \n",
      "                                                                                                               \n",
      " MaxPool_3 (MaxPooling1D)        (None, 3750, 160)     0           ['Concat_2[0][0]']               N          \n",
      "                                                                                                               \n",
      " Drop1_3 (Dropout)               (None, 1875, 32)      0           ['ReLU1_3[0][0]']                N          \n",
      "                                                                                                               \n",
      " Drop2_3 (Dropout)               (None, 1875, 32)      0           ['ReLU2_3[0][0]']                N          \n",
      "                                                                                                               \n",
      " Drop3_3 (Dropout)               (None, 1875, 32)      0           ['ReLU3_3[0][0]']                N          \n",
      "                                                                                                               \n",
      " Drop4_3 (Dropout)               (None, 1875, 32)      0           ['ReLU4_3[0][0]']                N          \n",
      "                                                                                                               \n",
      " Conv_skip_3 (Conv1D)            (None, 1875, 32)      5152        ['MaxPool_3[0][0]']              N          \n",
      "                                                                                                               \n",
      " Concat_3 (Concatenate)          (None, 1875, 160)     0           ['Drop1_3[0][0]',                N          \n",
      "                                                                    'Drop2_3[0][0]',                           \n",
      "                                                                    'Drop3_3[0][0]',                           \n",
      "                                                                    'Drop4_3[0][0]',                           \n",
      "                                                                    'Conv_skip_3[0][0]']                       \n",
      "                                                                                                               \n",
      " Pad_4 (ZeroPadding1D)           (None, 1876, 160)     0           ['Concat_3[0][0]']               N          \n",
      "                                                                                                               \n",
      " Conv1_4 (Conv1D)                (None, 938, 32)       40992       ['Pad_4[0][0]']                  N          \n",
      "                                                                                                               \n",
      " Conv2_4 (Conv1D)                (None, 938, 32)       81952       ['Pad_4[0][0]']                  N          \n",
      "                                                                                                               \n",
      " Conv3_4 (Conv1D)                (None, 938, 32)       163872      ['Pad_4[0][0]']                  N          \n",
      "                                                                                                               \n",
      " Conv4_4 (Conv1D)                (None, 938, 32)       327712      ['Pad_4[0][0]']                  N          \n",
      "                                                                                                               \n",
      " BN1_4 (BatchNormalization)      (None, 938, 32)       128         ['Conv1_4[0][0]']                N          \n",
      "                                                                                                               \n",
      " BN2_4 (BatchNormalization)      (None, 938, 32)       128         ['Conv2_4[0][0]']                N          \n",
      "                                                                                                               \n",
      " BN3_4 (BatchNormalization)      (None, 938, 32)       128         ['Conv3_4[0][0]']                N          \n",
      "                                                                                                               \n"
     ]
    },
    {
     "name": "stdout",
     "output_type": "stream",
     "text": [
      " BN4_4 (BatchNormalization)      (None, 938, 32)       128         ['Conv4_4[0][0]']                N          \n",
      "                                                                                                               \n",
      " ReLU1_4 (ReLU)                  (None, 938, 32)       0           ['BN1_4[0][0]']                  N          \n",
      "                                                                                                               \n",
      " ReLU2_4 (ReLU)                  (None, 938, 32)       0           ['BN2_4[0][0]']                  N          \n",
      "                                                                                                               \n",
      " ReLU3_4 (ReLU)                  (None, 938, 32)       0           ['BN3_4[0][0]']                  N          \n",
      "                                                                                                               \n",
      " ReLU4_4 (ReLU)                  (None, 938, 32)       0           ['BN4_4[0][0]']                  N          \n",
      "                                                                                                               \n",
      " MaxPool_4 (MaxPooling1D)        (None, 1876, 160)     0           ['Pad_4[0][0]']                  N          \n",
      "                                                                                                               \n",
      " Drop1_4 (Dropout)               (None, 938, 32)       0           ['ReLU1_4[0][0]']                N          \n",
      "                                                                                                               \n",
      " Drop2_4 (Dropout)               (None, 938, 32)       0           ['ReLU2_4[0][0]']                N          \n",
      "                                                                                                               \n",
      " Drop3_4 (Dropout)               (None, 938, 32)       0           ['ReLU3_4[0][0]']                N          \n",
      "                                                                                                               \n",
      " Drop4_4 (Dropout)               (None, 938, 32)       0           ['ReLU4_4[0][0]']                N          \n",
      "                                                                                                               \n",
      " Conv_skip_4 (Conv1D)            (None, 938, 32)       5152        ['MaxPool_4[0][0]']              N          \n",
      "                                                                                                               \n",
      " Concat_4 (Concatenate)          (None, 938, 160)      0           ['Drop1_4[0][0]',                N          \n",
      "                                                                    'Drop2_4[0][0]',                           \n",
      "                                                                    'Drop3_4[0][0]',                           \n",
      "                                                                    'Drop4_4[0][0]',                           \n",
      "                                                                    'Conv_skip_4[0][0]']                       \n",
      "                                                                                                               \n",
      " Conv1_5 (Conv1D)                (None, 469, 32)       40992       ['Concat_4[0][0]']               N          \n",
      "                                                                                                               \n",
      " Conv2_5 (Conv1D)                (None, 469, 32)       81952       ['Concat_4[0][0]']               N          \n",
      "                                                                                                               \n",
      " Conv3_5 (Conv1D)                (None, 469, 32)       163872      ['Concat_4[0][0]']               N          \n",
      "                                                                                                               \n",
      " Conv4_5 (Conv1D)                (None, 469, 32)       327712      ['Concat_4[0][0]']               N          \n",
      "                                                                                                               \n",
      " BN1_5 (BatchNormalization)      (None, 469, 32)       128         ['Conv1_5[0][0]']                N          \n",
      "                                                                                                               \n",
      " BN2_5 (BatchNormalization)      (None, 469, 32)       128         ['Conv2_5[0][0]']                N          \n",
      "                                                                                                               \n",
      " BN3_5 (BatchNormalization)      (None, 469, 32)       128         ['Conv3_5[0][0]']                N          \n",
      "                                                                                                               \n",
      " BN4_5 (BatchNormalization)      (None, 469, 32)       128         ['Conv4_5[0][0]']                N          \n",
      "                                                                                                               \n",
      " ReLU1_5 (ReLU)                  (None, 469, 32)       0           ['BN1_5[0][0]']                  N          \n",
      "                                                                                                               \n",
      " ReLU2_5 (ReLU)                  (None, 469, 32)       0           ['BN2_5[0][0]']                  N          \n",
      "                                                                                                               \n",
      " ReLU3_5 (ReLU)                  (None, 469, 32)       0           ['BN3_5[0][0]']                  N          \n",
      "                                                                                                               \n",
      " ReLU4_5 (ReLU)                  (None, 469, 32)       0           ['BN4_5[0][0]']                  N          \n",
      "                                                                                                               \n",
      " MaxPool_5 (MaxPooling1D)        (None, 938, 160)      0           ['Concat_4[0][0]']               N          \n",
      "                                                                                                               \n",
      " Drop1_5 (Dropout)               (None, 469, 32)       0           ['ReLU1_5[0][0]']                N          \n",
      "                                                                                                               \n",
      " Drop2_5 (Dropout)               (None, 469, 32)       0           ['ReLU2_5[0][0]']                N          \n",
      "                                                                                                               \n",
      " Drop3_5 (Dropout)               (None, 469, 32)       0           ['ReLU3_5[0][0]']                N          \n",
      "                                                                                                               \n",
      " Drop4_5 (Dropout)               (None, 469, 32)       0           ['ReLU4_5[0][0]']                N          \n",
      "                                                                                                               \n",
      " Conv_skip_5 (Conv1D)            (None, 469, 32)       5152        ['MaxPool_5[0][0]']              N          \n",
      "                                                                                                               \n",
      " Concat_5 (Concatenate)          (None, 469, 160)      0           ['Drop1_5[0][0]',                N          \n",
      "                                                                    'Drop2_5[0][0]',                           \n",
      "                                                                    'Drop3_5[0][0]',                           \n",
      "                                                                    'Drop4_5[0][0]',                           \n",
      "                                                                    'Conv_skip_5[0][0]']                       \n",
      "                                                                                                               \n",
      " AvgPool (GlobalAveragePooling1D  (None, 160)          0           ['Concat_5[0][0]']               N          \n",
      " )                                                                                                             \n",
      "                                                                                                               \n",
      " FC_6 (Dense)                    (None, 128)           20608       ['AvgPool[0][0]']                Y          \n"
     ]
    },
    {
     "name": "stdout",
     "output_type": "stream",
     "text": [
      "                                                                                                               \n",
      " Drop_6 (Dropout)                (None, 128)           0           ['FC_6[0][0]']                   N          \n",
      "                                                                                                               \n",
      " FC_7 (Dense)                    (None, 64)            8256        ['Drop_6[0][0]']                 Y          \n",
      "                                                                                                               \n",
      " Drop_7 (Dropout)                (None, 64)            0           ['FC_7[0][0]']                   N          \n",
      "                                                                                                               \n",
      " FC_8 (Dense)                    (None, 16)            1040        ['Drop_7[0][0]']                 Y          \n",
      "                                                                                                               \n",
      " FC_New (Dense)                  (None, 2)             34          ['FC_8[0][0]']                   Y          \n",
      "                                                                                                               \n",
      "===============================================================================================================\n",
      "Total params: 2,515,250\n",
      "Trainable params: 29,938\n",
      "Non-trainable params: 2,485,312\n",
      "_______________________________________________________________________________________________________________\n"
     ]
    }
   ],
   "source": [
    "# Remove the last layer and replace it with a new layer.\n",
    "model_out = orig_model.layers[-2].output\n",
    "model_out = Dense(NUM_CLASSES, activation='softmax', name='FC_New')(model_out)\n",
    "ecg_model = Model(orig_model.input, model_out, name=model_name)\n",
    "\n",
    "# Make all layers non-trainable except for the fully connected layers at the end.\n",
    "for l in ecg_model.layers:\n",
    "    if (l.name.startswith('FC_')):\n",
    "        l.trainable = True\n",
    "    else:\n",
    "        l.trainable = False\n",
    "ecg_model.summary(show_trainable=True, line_length=100)"
   ]
  },
  {
   "cell_type": "markdown",
   "id": "fecb63c6",
   "metadata": {},
   "source": [
    "### Compile the model"
   ]
  },
  {
   "cell_type": "code",
   "execution_count": 12,
   "id": "5c523d6a",
   "metadata": {},
   "outputs": [],
   "source": [
    "initial_lr = 1.0e-04  # Start with a small learning rate since model is pre-trained\n",
    "\n",
    "opt = tf.keras.optimizers.Adam(\n",
    "    learning_rate=initial_lr,\n",
    "    beta_1=0.9,\n",
    "    beta_2=0.999,\n",
    "    epsilon=1.0e-08,\n",
    ")\n",
    "\n",
    "ecg_model.compile(\n",
    "    optimizer=opt, \n",
    "    loss='categorical_crossentropy',\n",
    "    metrics=['accuracy']\n",
    ")"
   ]
  },
  {
   "cell_type": "markdown",
   "id": "fdf3fb1a",
   "metadata": {},
   "source": [
    "### Train the model"
   ]
  },
  {
   "cell_type": "code",
   "execution_count": 13,
   "id": "064c469f",
   "metadata": {},
   "outputs": [],
   "source": [
    "# Set up training callbacks.\n",
    "train_history = None\n",
    "monitor_label = 'val_accuracy'\n",
    "monitor_mode  = 'max'\n",
    "ckpt = ModelCheckpoint(\n",
    "    filepath=os.path.join(checkpoint_dir, 'weights-r03-{epoch:04d}.h5'),\n",
    "    monitor=monitor_label, \n",
    "    mode=monitor_mode,\n",
    "    save_best_only=True, \n",
    "    save_weights_only = True,\n",
    "    verbose=1, \n",
    ")\n",
    "esc = EarlyStopping(\n",
    "    monitor=monitor_label,\n",
    "    mode=monitor_mode,\n",
    "    min_delta=0, \n",
    "    patience=7, \n",
    "    restore_best_weights=True,\n",
    "    verbose=1,\n",
    ")\n",
    "rop = ReduceLROnPlateau(\n",
    "    monitor=monitor_label,\n",
    "    mode=monitor_mode,\n",
    "    min_delta=0,\n",
    "    factor=0.5,\n",
    "    min_lr=1.0e-08,\n",
    "    patience=2,\n",
    "    cooldown=0,\n",
    "    verbose=1, \n",
    ")"
   ]
  },
  {
   "cell_type": "code",
   "execution_count": 14,
   "id": "7485c19c",
   "metadata": {},
   "outputs": [
    {
     "name": "stdout",
     "output_type": "stream",
     "text": [
      "2023-07-04 08:55:32 Training start.\n",
      "Epoch 1/50\n",
      "    311/Unknown - 644s 2s/step - loss: 0.4438 - accuracy: 0.8621\n",
      "Epoch 1: val_accuracy improved from -inf to 0.97059, saving model to D:\\dev\\jupyter\\MIT-BIH-AFIB\\checkpoint\\InceptionTimeNetV4-D05-new\\weights-r03-0001.h5\n",
      "311/311 [==============================] - 675s 2s/step - loss: 0.4438 - accuracy: 0.8621 - val_loss: 0.1052 - val_accuracy: 0.9706 - lr: 1.0000e-04\n",
      "Epoch 2/50\n",
      "311/311 [==============================] - ETA: 0s - loss: 0.0918 - accuracy: 0.9746\n",
      "Epoch 2: val_accuracy improved from 0.97059 to 0.98713, saving model to D:\\dev\\jupyter\\MIT-BIH-AFIB\\checkpoint\\InceptionTimeNetV4-D05-new\\weights-r03-0002.h5\n",
      "311/311 [==============================] - 675s 2s/step - loss: 0.0918 - accuracy: 0.9746 - val_loss: 0.0474 - val_accuracy: 0.9871 - lr: 1.0000e-04\n",
      "Epoch 3/50\n",
      "311/311 [==============================] - ETA: 0s - loss: 0.0618 - accuracy: 0.9835\n",
      "Epoch 3: val_accuracy did not improve from 0.98713\n",
      "311/311 [==============================] - 663s 2s/step - loss: 0.0618 - accuracy: 0.9835 - val_loss: 0.0334 - val_accuracy: 0.9871 - lr: 1.0000e-04\n",
      "Epoch 4/50\n",
      "311/311 [==============================] - ETA: 0s - loss: 0.0505 - accuracy: 0.9864\n",
      "Epoch 4: val_accuracy improved from 0.98713 to 0.98897, saving model to D:\\dev\\jupyter\\MIT-BIH-AFIB\\checkpoint\\InceptionTimeNetV4-D05-new\\weights-r03-0004.h5\n",
      "311/311 [==============================] - 643s 2s/step - loss: 0.0505 - accuracy: 0.9864 - val_loss: 0.0279 - val_accuracy: 0.9890 - lr: 1.0000e-04\n",
      "Epoch 5/50\n",
      "311/311 [==============================] - ETA: 0s - loss: 0.0443 - accuracy: 0.9883\n",
      "Epoch 5: val_accuracy did not improve from 0.98897\n",
      "311/311 [==============================] - 678s 2s/step - loss: 0.0443 - accuracy: 0.9883 - val_loss: 0.0259 - val_accuracy: 0.9890 - lr: 1.0000e-04\n",
      "Epoch 6/50\n",
      "311/311 [==============================] - ETA: 0s - loss: 0.0374 - accuracy: 0.9898\n",
      "Epoch 6: val_accuracy improved from 0.98897 to 0.99081, saving model to D:\\dev\\jupyter\\MIT-BIH-AFIB\\checkpoint\\InceptionTimeNetV4-D05-new\\weights-r03-0006.h5\n",
      "311/311 [==============================] - 658s 2s/step - loss: 0.0374 - accuracy: 0.9898 - val_loss: 0.0221 - val_accuracy: 0.9908 - lr: 1.0000e-04\n",
      "Epoch 7/50\n",
      "311/311 [==============================] - ETA: 0s - loss: 0.0349 - accuracy: 0.9906\n",
      "Epoch 7: val_accuracy did not improve from 0.99081\n",
      "311/311 [==============================] - 638s 2s/step - loss: 0.0349 - accuracy: 0.9906 - val_loss: 0.0248 - val_accuracy: 0.9908 - lr: 1.0000e-04\n",
      "Epoch 8/50\n",
      "311/311 [==============================] - ETA: 0s - loss: 0.0345 - accuracy: 0.9910\n",
      "Epoch 8: val_accuracy improved from 0.99081 to 0.99265, saving model to D:\\dev\\jupyter\\MIT-BIH-AFIB\\checkpoint\\InceptionTimeNetV4-D05-new\\weights-r03-0008.h5\n",
      "311/311 [==============================] - 638s 2s/step - loss: 0.0345 - accuracy: 0.9910 - val_loss: 0.0208 - val_accuracy: 0.9926 - lr: 1.0000e-04\n",
      "Epoch 9/50\n",
      "311/311 [==============================] - ETA: 0s - loss: 0.0299 - accuracy: 0.9912\n",
      "Epoch 9: val_accuracy did not improve from 0.99265\n",
      "311/311 [==============================] - 640s 2s/step - loss: 0.0299 - accuracy: 0.9912 - val_loss: 0.0216 - val_accuracy: 0.9890 - lr: 1.0000e-04\n",
      "Epoch 10/50\n",
      "311/311 [==============================] - ETA: 0s - loss: 0.0271 - accuracy: 0.9930\n",
      "Epoch 10: val_accuracy did not improve from 0.99265\n",
      "\n",
      "Epoch 10: ReduceLROnPlateau reducing learning rate to 4.999999873689376e-05.\n",
      "311/311 [==============================] - 642s 2s/step - loss: 0.0271 - accuracy: 0.9930 - val_loss: 0.0188 - val_accuracy: 0.9926 - lr: 1.0000e-04\n",
      "Epoch 11/50\n",
      "311/311 [==============================] - ETA: 0s - loss: 0.0254 - accuracy: 0.9924\n",
      "Epoch 11: val_accuracy improved from 0.99265 to 0.99449, saving model to D:\\dev\\jupyter\\MIT-BIH-AFIB\\checkpoint\\InceptionTimeNetV4-D05-new\\weights-r03-0011.h5\n",
      "311/311 [==============================] - 651s 2s/step - loss: 0.0254 - accuracy: 0.9924 - val_loss: 0.0162 - val_accuracy: 0.9945 - lr: 5.0000e-05\n",
      "Epoch 12/50\n",
      "311/311 [==============================] - ETA: 0s - loss: 0.0237 - accuracy: 0.9939\n",
      "Epoch 12: val_accuracy did not improve from 0.99449\n",
      "311/311 [==============================] - 674s 2s/step - loss: 0.0237 - accuracy: 0.9939 - val_loss: 0.0176 - val_accuracy: 0.9926 - lr: 5.0000e-05\n",
      "Epoch 13/50\n",
      "311/311 [==============================] - ETA: 0s - loss: 0.0236 - accuracy: 0.9933\n",
      "Epoch 13: val_accuracy did not improve from 0.99449\n",
      "\n",
      "Epoch 13: ReduceLROnPlateau reducing learning rate to 2.499999936844688e-05.\n",
      "311/311 [==============================] - 670s 2s/step - loss: 0.0236 - accuracy: 0.9933 - val_loss: 0.0194 - val_accuracy: 0.9926 - lr: 5.0000e-05\n",
      "Epoch 14/50\n",
      "311/311 [==============================] - ETA: 0s - loss: 0.0221 - accuracy: 0.9935\n",
      "Epoch 14: val_accuracy did not improve from 0.99449\n",
      "311/311 [==============================] - 643s 2s/step - loss: 0.0221 - accuracy: 0.9935 - val_loss: 0.0161 - val_accuracy: 0.9926 - lr: 2.5000e-05\n",
      "Epoch 15/50\n",
      "311/311 [==============================] - ETA: 0s - loss: 0.0211 - accuracy: 0.9933\n",
      "Epoch 15: val_accuracy did not improve from 0.99449\n",
      "\n",
      "Epoch 15: ReduceLROnPlateau reducing learning rate to 1.249999968422344e-05.\n",
      "311/311 [==============================] - 681s 2s/step - loss: 0.0211 - accuracy: 0.9933 - val_loss: 0.0170 - val_accuracy: 0.9926 - lr: 2.5000e-05\n",
      "Epoch 16/50\n",
      "311/311 [==============================] - ETA: 0s - loss: 0.0214 - accuracy: 0.9940\n",
      "Epoch 16: val_accuracy did not improve from 0.99449\n",
      "311/311 [==============================] - 656s 2s/step - loss: 0.0214 - accuracy: 0.9940 - val_loss: 0.0162 - val_accuracy: 0.9926 - lr: 1.2500e-05\n",
      "Epoch 17/50\n",
      "311/311 [==============================] - ETA: 0s - loss: 0.0204 - accuracy: 0.9941\n",
      "Epoch 17: val_accuracy did not improve from 0.99449\n",
      "\n",
      "Epoch 17: ReduceLROnPlateau reducing learning rate to 6.24999984211172e-06.\n",
      "311/311 [==============================] - 638s 2s/step - loss: 0.0204 - accuracy: 0.9941 - val_loss: 0.0161 - val_accuracy: 0.9926 - lr: 1.2500e-05\n",
      "Epoch 18/50\n",
      "311/311 [==============================] - ETA: 0s - loss: 0.0217 - accuracy: 0.9939\n",
      "Epoch 18: val_accuracy did not improve from 0.99449\n",
      "Restoring model weights from the end of the best epoch: 11.\n",
      "311/311 [==============================] - 660s 2s/step - loss: 0.0217 - accuracy: 0.9939 - val_loss: 0.0159 - val_accuracy: 0.9926 - lr: 6.2500e-06\n",
      "Epoch 18: early stopping\n",
      "2023-07-04 12:12:35 Training complete.\n"
     ]
    }
   ],
   "source": [
    "num_epochs = 50\n",
    "train_model = True\n",
    "if train_model:\n",
    "    print('{} Training start.'.format(db.timestamp()))\n",
    "    \n",
    "    train_history = ecg_model.fit(\n",
    "        x=train_ds, \n",
    "        validation_data=val_ds, \n",
    "        callbacks=[ckpt, rop, esc],\n",
    "        epochs=num_epochs)\n",
    "    \n",
    "    print('{} Training complete.'.format(db.timestamp()))\n",
    "else:\n",
    "    print('Model not trained.')"
   ]
  },
  {
   "cell_type": "markdown",
   "id": "aaf196ed",
   "metadata": {},
   "source": [
    "### Save the model"
   ]
  },
  {
   "cell_type": "code",
   "execution_count": 15,
   "id": "e0f31078",
   "metadata": {},
   "outputs": [
    {
     "name": "stderr",
     "output_type": "stream",
     "text": [
      "WARNING:absl:Found untraced functions such as _jit_compiled_convolution_op, _jit_compiled_convolution_op, _jit_compiled_convolution_op, _jit_compiled_convolution_op, _jit_compiled_convolution_op while saving (showing 5 of 25). These functions will not be directly callable after loading.\n"
     ]
    },
    {
     "name": "stdout",
     "output_type": "stream",
     "text": [
      "INFO:tensorflow:Assets written to: D:\\dev\\jupyter\\MIT-BIH-AFIB\\checkpoint\\InceptionTimeNetV4-D05-new\\InceptionTimeNetV4-D05-new\\assets\n"
     ]
    },
    {
     "name": "stderr",
     "output_type": "stream",
     "text": [
      "INFO:tensorflow:Assets written to: D:\\dev\\jupyter\\MIT-BIH-AFIB\\checkpoint\\InceptionTimeNetV4-D05-new\\InceptionTimeNetV4-D05-new\\assets\n"
     ]
    },
    {
     "name": "stdout",
     "output_type": "stream",
     "text": [
      "ECG model saved to D:\\dev\\jupyter\\MIT-BIH-AFIB\\checkpoint\\InceptionTimeNetV4-D05-new\\InceptionTimeNetV4-D05-new\n"
     ]
    }
   ],
   "source": [
    "save_model = True\n",
    "if save_model:\n",
    "    saved = mu.save_model(ecg_model, model_file_base)\n",
    "    print('ECG model saved to {}'.format(model_file_base))\n",
    "else:\n",
    "    print('ECG model not saved')"
   ]
  },
  {
   "cell_type": "markdown",
   "id": "a5a733c8",
   "metadata": {},
   "source": [
    "### Run predictions"
   ]
  },
  {
   "cell_type": "code",
   "execution_count": 16,
   "id": "ad86406f",
   "metadata": {},
   "outputs": [
    {
     "name": "stdout",
     "output_type": "stream",
     "text": [
      "Targets shape: (554, 2)\n"
     ]
    }
   ],
   "source": [
    "# Create the ground truth targets array.\n",
    "targets_list = []\n",
    "for tds in test_ds:\n",
    "    targets_list.append(tds[1])\n",
    "targets = np.squeeze(np.asarray(targets_list), 1) # Convert dataset to array, remove unused dimension\n",
    "print('Targets shape: {}'.format(targets.shape))"
   ]
  },
  {
   "cell_type": "code",
   "execution_count": 17,
   "id": "37a78270",
   "metadata": {},
   "outputs": [
    {
     "name": "stdout",
     "output_type": "stream",
     "text": [
      "554/554 [==============================] - 30s 54ms/step\n",
      "Predictions shape: (554, 2)\n"
     ]
    }
   ],
   "source": [
    "# Perform predictions on the test dataset.\n",
    "predictions = np.asarray(\n",
    "    ecg_model.predict(\n",
    "        x=test_ds,\n",
    "        steps=None,\n",
    "        verbose=1\n",
    "    )\n",
    ")\n",
    "print('Predictions shape: {}'.format(predictions.shape))"
   ]
  },
  {
   "cell_type": "code",
   "execution_count": 18,
   "id": "c8ff28c5",
   "metadata": {},
   "outputs": [],
   "source": [
    "# Create a classification array.\n",
    "classifications = np.zeros(predictions.shape)\n",
    "idx_array = np.argmax(predictions, axis=1)\n",
    "for i in range(predictions.shape[0]):\n",
    "    p = predictions[i]\n",
    "    idx = idx_array[i]\n",
    "    if (p[idx] > 0.5):\n",
    "        classifications[i,idx] = 1"
   ]
  },
  {
   "cell_type": "code",
   "execution_count": 19,
   "id": "9c97bb0c",
   "metadata": {},
   "outputs": [
    {
     "name": "stdout",
     "output_type": "stream",
     "text": [
      "Prediction:     [9.9981409e-01 1.8597097e-04]\n",
      "Target:         [1. 0.]\n",
      "Classification: [1. 0.]\n"
     ]
    }
   ],
   "source": [
    "# Sanity check the first element.\n",
    "print('Prediction:     {}'.format(predictions[0]))\n",
    "print('Target:         {}'.format(targets[0]))\n",
    "print('Classification: {}'.format(classifications[0]))"
   ]
  },
  {
   "cell_type": "markdown",
   "id": "caadb273",
   "metadata": {},
   "source": [
    "### Save the results"
   ]
  },
  {
   "cell_type": "code",
   "execution_count": 20,
   "id": "6545517f",
   "metadata": {},
   "outputs": [],
   "source": [
    "# Function to append current history to previous history\n",
    "def append_history(h_current, h_new):\n",
    "    for k in h_new:\n",
    "        if k in h_current:\n",
    "            h_current[k] += h_new[k]\n",
    "        else:\n",
    "            h_current[k] = h_new[k]\n",
    "    return h_current"
   ]
  },
  {
   "cell_type": "code",
   "execution_count": 21,
   "id": "0ef7f986",
   "metadata": {},
   "outputs": [
    {
     "name": "stdout",
     "output_type": "stream",
     "text": [
      "True\n",
      "Results saved to D:\\dev\\jupyter\\MIT-BIH-AFIB\\checkpoint\\InceptionTimeNetV4-D05-new\\InceptionTimeNetV4-D05-new_results.pickle.\n"
     ]
    }
   ],
   "source": [
    "# Save the results.\n",
    "save_results = True\n",
    "pickle_file = model_file_base + '_results.pickle'\n",
    "\n",
    "# Append training history.\n",
    "total_history = None\n",
    "\n",
    "if train_history is not None:\n",
    "    if os.path.isfile(pickle_file):\n",
    "        saved_results = mu.load_results(pickle_file)\n",
    "        total_history = append_history(saved_results['history'], train_history.history)\n",
    "    else:\n",
    "        total_history = train_history.history  \n",
    "    \n",
    "if save_results:\n",
    "    pickle_results = {\n",
    "        #'params' : params,\n",
    "        'max_epochs' : num_epochs,\n",
    "        'class_names' : CLASS_NAMES,\n",
    "        'targets' : targets,\n",
    "        'predictions' : predictions,\n",
    "        'classifications' : classifications,\n",
    "        'history' : total_history\n",
    "    }\n",
    "    print(mu.save_results(pickle_results, pickle_file))\n",
    "    print('Results saved to {}.'.format(pickle_file))\n",
    "else:\n",
    "    print('Results not saved.')"
   ]
  },
  {
   "cell_type": "markdown",
   "id": "0f465fdc",
   "metadata": {},
   "source": [
    "### Load previously saved results"
   ]
  },
  {
   "cell_type": "code",
   "execution_count": 22,
   "id": "08128698",
   "metadata": {},
   "outputs": [
    {
     "name": "stdout",
     "output_type": "stream",
     "text": [
      "Previous results not loaded.\n"
     ]
    }
   ],
   "source": [
    "load_previous = False\n",
    "if load_previous:\n",
    "    saved_results = mu.load_results(pickle_file)\n",
    "    num_epochs = saved_results['max_epochs']\n",
    "    targets = saved_results['targets']\n",
    "    predictions = saved_results['predictions']\n",
    "    classifications = saved_results['classifications']\n",
    "    total_history = saved_results['history']\n",
    "    print('Previous results loaded.')\n",
    "else:\n",
    "    print('Previous results not loaded.')"
   ]
  },
  {
   "cell_type": "markdown",
   "id": "a2ac8bcb",
   "metadata": {},
   "source": [
    "### Compute metrics"
   ]
  },
  {
   "cell_type": "code",
   "execution_count": 23,
   "id": "9868a27c",
   "metadata": {},
   "outputs": [
    {
     "name": "stdout",
     "output_type": "stream",
     "text": [
      "              precision    recall  f1-score   support\n",
      "\n",
      "           N       0.99      0.99      0.99       277\n",
      "        AFIB       0.99      0.99      0.99       277\n",
      "\n",
      "   micro avg       0.99      0.99      0.99       554\n",
      "   macro avg       0.99      0.99      0.99       554\n",
      "weighted avg       0.99      0.99      0.99       554\n",
      " samples avg       0.99      0.99      0.99       554\n",
      "\n"
     ]
    }
   ],
   "source": [
    "# Run a classification report.\n",
    "report = classification_report(targets, classifications, target_names=CLASS_NAMES, zero_division=0)\n",
    "print(report)"
   ]
  },
  {
   "cell_type": "code",
   "execution_count": 24,
   "id": "d3c3428c",
   "metadata": {},
   "outputs": [
    {
     "name": "stdout",
     "output_type": "stream",
     "text": [
      "Confusion matrix for class N:\n",
      "[[274   3]\n",
      " [  2 275]]\n",
      "ACC: 0.9910\n",
      "PPV: 0.9892\n",
      "AUC: 0.9910\n",
      "\n",
      "Confusion matrix for class AFIB:\n",
      "[[275   2]\n",
      " [  3 274]]\n",
      "ACC: 0.9910\n",
      "PPV: 0.9928\n",
      "AUC: 0.9910\n",
      "\n",
      "There are 0 predictions with no classification (0.00%).\n",
      "True N    : 0\n",
      "True AFIB : 0\n"
     ]
    }
   ],
   "source": [
    "# Additional metrics for each class.\n",
    "for i in range(NUM_CLASSES):\n",
    "    cm = confusion_matrix(targets[:,i], classifications[:,i])\n",
    "    acc = (cm[0,0] + cm[1,1]) / np.sum(cm)\n",
    "    ppv = cm[1,1] / (cm[1,1] + cm[0,1])\n",
    "    fpr, tpr, _ = roc_curve(targets[:,i], classifications[:,i])\n",
    "    roc_auc = auc(fpr, tpr)\n",
    "    print('Confusion matrix for class {}:'.format(CLASS_NAMES[i]))\n",
    "    print(cm)\n",
    "    print('ACC: {:0.4f}'.format(acc))\n",
    "    print('PPV: {:0.4f}'.format(ppv))\n",
    "    print('AUC: {:0.4f}'.format(roc_auc))\n",
    "    print()\n",
    "\n",
    "no_class_counts = np.zeros(NUM_CLASSES)\n",
    "num_examples = targets.shape[0]\n",
    "for i in range(num_examples):\n",
    "    if np.sum(classifications[i]) == 0:\n",
    "        no_class_counts[np.argmax(targets[i])] += 1\n",
    "no_class_sum = np.sum(no_class_counts)\n",
    "no_class_pct = 100. * no_class_sum / num_examples\n",
    "print('There are {} predictions with no classification ({:0.2f}%).'.format(int(no_class_sum), no_class_pct))\n",
    "for i in range(NUM_CLASSES):\n",
    "    print('True {:5s}: {}'.format(CLASS_NAMES[i], int(no_class_counts[i])))"
   ]
  },
  {
   "cell_type": "markdown",
   "id": "1323c8f9",
   "metadata": {},
   "source": [
    "### Plot training metrics"
   ]
  },
  {
   "cell_type": "code",
   "execution_count": 25,
   "id": "4ad60929",
   "metadata": {},
   "outputs": [
    {
     "name": "stdout",
     "output_type": "stream",
     "text": [
      "Total epochs: 18\n",
      "Max val_accuracy at epoch 11: 0.9945\n"
     ]
    },
    {
     "data": {
      "image/png": "[encoded data removed]",
      "text/plain": [
       "<Figure size 1152x288 with 3 Axes>"
      ]
     },
     "metadata": {
      "needs_background": "light"
     },
     "output_type": "display_data"
    }
   ],
   "source": [
    "fig, (ax_acc, ax_mse, ax_lr) = plt.subplots(nrows=1, ncols=3, figsize=(16, 4))\n",
    "plt.yscale('linear')\n",
    "\n",
    "total_epochs = len(total_history['loss'])\n",
    "max_idx = np.argmax(total_history['val_accuracy'])\n",
    "max_acc = total_history['val_accuracy'][max_idx]\n",
    "print('Total epochs: {}'.format(total_epochs))\n",
    "print('Max val_accuracy at epoch {}: {:0.4f}'.format(max_idx+1, max_acc))\n",
    "\n",
    "ax_acc.plot(range(1, total_epochs+1), total_history['accuracy'], color='blue', label='Training')\n",
    "ax_acc.plot(range(1, total_epochs+1), total_history['val_accuracy'], color='red', label='Validation')\n",
    "ax_acc.set_xlabel('Epoch')\n",
    "ax_acc.set_ylabel('Accuracy')\n",
    "ax_acc.set_title('Classification Accuracy per Epoch')\n",
    "ax_acc.legend()\n",
    "\n",
    "ax_mse.plot(range(1, total_epochs+1), total_history['loss'], color='blue', label='Training')\n",
    "ax_mse.plot(range(1, total_epochs+1), total_history['val_loss'], color='red', label='Validation')\n",
    "ax_mse.set_xlabel('Epoch')\n",
    "ax_mse.set_ylabel('Loss')\n",
    "ax_mse.set_title('Loss per Epoch')\n",
    "ax_mse.legend()\n",
    "\n",
    "plt.yscale('log')\n",
    "ax_lr.plot(range(1, total_epochs+1), total_history['lr'], color='blue')\n",
    "ax_lr.set_xlabel('Epoch')\n",
    "ax_lr.set_ylabel('Learning Rate')\n",
    "ax_lr.set_title('Learning Rate per Epoch')\n",
    "\n",
    "plt.show()"
   ]
  },
  {
   "cell_type": "markdown",
   "id": "8f8fde9f",
   "metadata": {},
   "source": [
    "### Plot a confusion matrix"
   ]
  },
  {
   "cell_type": "code",
   "execution_count": 26,
   "id": "e804fc9a",
   "metadata": {},
   "outputs": [],
   "source": [
    "class my_formatter(matplotlib.ticker.Formatter):\n",
    "    def __init__(self, x, pos):\n",
    "        super(matplotlib.ticker.Formatter, self).__init__()\n",
    "    def __call__(self, x, pos):\n",
    "        return '{:0.2f}'.format(10.**x)"
   ]
  },
  {
   "cell_type": "code",
   "execution_count": 27,
   "id": "e5d34114",
   "metadata": {},
   "outputs": [],
   "source": [
    "def plot_confusion_matrix(targets, classifications, class_names):\n",
    "    num_examples = targets.shape[0]\n",
    "    num_classes = targets.shape[1]\n",
    "    \n",
    "    # Count plot_confusion_matrixactual vs. classification instances.\n",
    "    heatmap_data = np.zeros((num_classes, num_classes))\n",
    "    for i in range(num_examples):\n",
    "        x = np.argmax(classifications[i])\n",
    "        y = np.argmax(targets[i])\n",
    "        heatmap_data[x, (num_classes - y - 1)] += 1\n",
    "    #print(heatmap_data)\n",
    "    heatmap_pct = (heatmap_data * 100) / num_examples  # Convert to percent of total\n",
    "    #print(heatmap_pct)\n",
    "    heatmap_data = np.log10(heatmap_pct)  # Convert to log scale for plotting\n",
    "    #print(heatmap_data)\n",
    "    \n",
    "    # Create the color plot.\n",
    "    fig, ax = plt.subplots()\n",
    "    heatmap = ax.pcolor(heatmap_data.T, cmap='Blues') \n",
    "    ax.set_xlabel('Predicted')\n",
    "    ax.set_ylabel('True')\n",
    "    ax.set_xticks(np.arange(num_classes)+0.5, labels=class_names,)\n",
    "    ax.set_yticks(np.arange(num_classes)+0.5, labels=reversed(class_names))\n",
    "\n",
    "    # Overlay values.\n",
    "    for i in range(NUM_CLASSES):\n",
    "        for j in range(NUM_CLASSES):\n",
    "            val = '{:0.2f}'.format(heatmap_pct[i, j])\n",
    "            text = ax.text(i+0.5, j+0.5, val, ha='center', va='center')\n",
    "\n",
    "    # Create a colorbar.\n",
    "    tickpos = [0.05, 0.1, 0.3, 1, 3, 10, 30]\n",
    "    ticklist = np.log10(tickpos)\n",
    "    plt.colorbar(heatmap, label='classification %', format=my_formatter(x, pos=None), ticks=ticklist)\n",
    "    plt.show()"
   ]
  },
  {
   "cell_type": "code",
   "execution_count": 28,
   "id": "0ff68435",
   "metadata": {},
   "outputs": [
    {
     "data": {
      "image/png": "[encoded data removed]",
      "text/plain": [
       "<Figure size 432x288 with 2 Axes>"
      ]
     },
     "metadata": {
      "needs_background": "light"
     },
     "output_type": "display_data"
    }
   ],
   "source": [
    "plot_confusion_matrix(targets, classifications, CLASS_NAMES)"
   ]
  },
  {
   "cell_type": "code",
   "execution_count": null,
   "id": "e990668b",
   "metadata": {},
   "outputs": [],
   "source": []
  }
 ],
 "metadata": {
  "kernelspec": {
   "display_name": "Python 3 (ipykernel)",
   "language": "python",
   "name": "python3"
  },
  "language_info": {
   "codemirror_mode": {
    "name": "ipython",
    "version": 3
   },
   "file_extension": ".py",
   "mimetype": "text/x-python",
   "name": "python",
   "nbconvert_exporter": "python",
   "pygments_lexer": "ipython3",
   "version": "3.10.10"
  }
 },
 "nbformat": 4,
 "nbformat_minor": 5
}

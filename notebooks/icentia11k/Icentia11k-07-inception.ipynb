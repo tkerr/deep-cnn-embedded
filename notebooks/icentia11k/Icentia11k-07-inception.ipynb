{
 "cells": [
  {
   "cell_type": "markdown",
   "id": "a1878660",
   "metadata": {},
   "source": [
    "# Icentia11k-00-inception.ipynb  \n",
    "Experiment with using the InceptionTime network for classification of the Icentia11k dataset    \n",
    "References:  \n",
    "Icentia11k: https://physionet.org/content/icentia11k-continuous-ecg/1.0/  \n",
    "Inception Time: https://arxiv.org/pdf/1909.04939  "
   ]
  },
  {
   "cell_type": "code",
   "execution_count": 1,
   "id": "43c438fb",
   "metadata": {},
   "outputs": [
    {
     "name": "stdout",
     "output_type": "stream",
     "text": [
      "OS name:            Windows 10\n",
      "Python version:     3.10.10\n",
      "Numpy version:      1.23.2\n",
      "TensorFlow version: 2.10.0\n",
      "You are here: D:\\dev\\jupyter\\Icentia11k\n"
     ]
    }
   ],
   "source": [
    "# Environment setup.\n",
    "import os\n",
    "import re\n",
    "import sys\n",
    "import platform\n",
    "\n",
    "import numpy as np\n",
    "import pickle\n",
    "import tensorflow as tf\n",
    "from tensorflow.keras.models import Model\n",
    "from tensorflow.keras.callbacks import EarlyStopping, ModelCheckpoint, ReduceLROnPlateau\n",
    "\n",
    "from sklearn.metrics import classification_report, confusion_matrix, roc_curve, auc\n",
    "\n",
    "import matplotlib\n",
    "import matplotlib.pyplot as plt\n",
    "%matplotlib inline\n",
    "\n",
    "import fileutils as fu\n",
    "import model_utils as mu\n",
    "import icentia11k as ic\n",
    "import icentia11k_tfrecord as tfr\n",
    "import inception_model as ict\n",
    "import model_utils as mu\n",
    "\n",
    "os_name = platform.system()\n",
    "print('OS name:            {} {}'.format(os_name, platform.release()))\n",
    "print('Python version:     {}.{}.{}'.format(sys.version_info[0], sys.version_info[1], sys.version_info[2]))\n",
    "print('Numpy version:      {}'.format(np.__version__))\n",
    "print('TensorFlow version: {}'.format(tf.__version__))\n",
    "print('You are here: {}'.format(os.getcwd()))"
   ]
  },
  {
   "cell_type": "code",
   "execution_count": 2,
   "id": "f86a126d",
   "metadata": {},
   "outputs": [
    {
     "name": "stdout",
     "output_type": "stream",
     "text": [
      "E:/Data/Icentia11k\\data\n",
      "E:/Data/Icentia11k\\tfrecord\n"
     ]
    }
   ],
   "source": [
    "# ECG data parameters.\n",
    "tfr.ECG_LENGTH = 7500\n",
    "tfr.USE_ZNORM  = True\n",
    "\n",
    "# Set the local paths based on our environment.\n",
    "if (os_name == 'Windows'):\n",
    "    DATA_PATH_ROOT = r'E:/Data/Icentia11k'\n",
    "else:\n",
    "    DATA_PATH_ROOT = os.getcwd()\n",
    "\n",
    "ic.LOCAL_DATA_PATH = os.path.join(DATA_PATH_ROOT, 'data')\n",
    "ic.LOCAL_TFRECORD_PATH = os.path.join(DATA_PATH_ROOT, 'tfrecord')\n",
    "print(ic.LOCAL_DATA_PATH)\n",
    "print(ic.LOCAL_TFRECORD_PATH)"
   ]
  },
  {
   "cell_type": "markdown",
   "id": "47c14c5a",
   "metadata": {},
   "source": [
    "### Create the datasets"
   ]
  },
  {
   "cell_type": "code",
   "execution_count": 3,
   "id": "b7373ed2",
   "metadata": {},
   "outputs": [
    {
     "name": "stdout",
     "output_type": "stream",
     "text": [
      "Train size:      126000\n",
      "Test size:       7000\n",
      "Validation size: 7000\n"
     ]
    }
   ],
   "source": [
    "# Get TFRecord file lists.\n",
    "train_file = os.path.join(ic.LOCAL_TFRECORD_PATH, 'tfrecord_train_list.csv')\n",
    "test_file = os.path.join(ic.LOCAL_TFRECORD_PATH, 'tfrecord_test_list.csv')\n",
    "val_file = os.path.join(ic.LOCAL_TFRECORD_PATH, 'tfrecord_val_list.csv')\n",
    "train_list, test_list, val_list = tfr.get_tfrecord_lists(\n",
    "    train_file,\n",
    "    test_file,\n",
    "    val_file,\n",
    "    path=DATA_PATH_ROOT)\n",
    "train_size = len(train_list)\n",
    "test_size = len(test_list)\n",
    "val_size = len(val_list)\n",
    "\n",
    "print('Train size:      {}'.format(train_size))\n",
    "print('Test size:       {}'.format(test_size))\n",
    "print('Validation size: {}'.format(val_size))"
   ]
  },
  {
   "cell_type": "code",
   "execution_count": 4,
   "id": "910f117e",
   "metadata": {},
   "outputs": [],
   "source": [
    "batch_size = 125\n",
    "buffer_size = train_size // batch_size\n",
    "\n",
    "train_ds = tf.data.TFRecordDataset(train_list)\n",
    "train_ds = train_ds.map(tfr.ecg_parse_fn)\n",
    "train_ds = train_ds.shuffle(buffer_size)\n",
    "train_ds = train_ds.batch(batch_size, drop_remainder=True)\n",
    "\n",
    "test_ds = tf.data.TFRecordDataset(test_list)\n",
    "test_ds = test_ds.map(tfr.ecg_parse_fn)\n",
    "test_ds = test_ds.batch(batch_size=1, drop_remainder=True)\n",
    "\n",
    "val_ds = tf.data.TFRecordDataset(val_list)\n",
    "val_ds = val_ds.map(tfr.ecg_parse_fn)\n",
    "val_ds = val_ds.batch(batch_size, drop_remainder=True)"
   ]
  },
  {
   "cell_type": "markdown",
   "id": "18f11144",
   "metadata": {},
   "source": [
    "### Build or load the model"
   ]
  },
  {
   "cell_type": "code",
   "execution_count": 5,
   "id": "dfe405e8",
   "metadata": {},
   "outputs": [],
   "source": [
    "# Create the input tensor.\n",
    "ecg_input = tf.keras.Input(shape=(tfr.ECG_LENGTH, 1), name='ecg_input')"
   ]
  },
  {
   "cell_type": "code",
   "execution_count": 4,
   "id": "0ff18d6e",
   "metadata": {},
   "outputs": [
    {
     "name": "stdout",
     "output_type": "stream",
     "text": [
      "Checkpoint directory: ./checkpoint\\InceptionTimeNetV4-D05\n"
     ]
    }
   ],
   "source": [
    "# Model parameters.\n",
    "depth = 5\n",
    "nconv = 4\n",
    "model_name = 'InceptionTimeNetV4-D{:02d}'.format(depth)\n",
    "params = {\n",
    "    'model_name'  : model_name,\n",
    "    'classes'     : ic.NUM_CLASSES,\n",
    "    'depth'       : depth,\n",
    "    'nconv'       : nconv,\n",
    "    'nfilt'       : 32,\n",
    "    'ksize_start' : 8,\n",
    "    'conv_init'   : 'he_normal',\n",
    "    'pool_size'   : 8,\n",
    "    'rate'        : 0.2,\n",
    "}\n",
    "\n",
    "# File paths and names.\n",
    "checkpoint_dir = os.path.join('./checkpoint', model_name)\n",
    "model_file_base = os.path.join(checkpoint_dir, model_name)\n",
    "fu.mkpath(checkpoint_dir)\n",
    "print('Checkpoint directory: {}'.format(checkpoint_dir))"
   ]
  },
  {
   "cell_type": "code",
   "execution_count": 7,
   "id": "915b99a0",
   "metadata": {},
   "outputs": [
    {
     "name": "stdout",
     "output_type": "stream",
     "text": [
      "Model not built.\n"
     ]
    }
   ],
   "source": [
    "build_model = False\n",
    "if build_model:\n",
    "    ecg_model = ict.ict_model(ecg_input, **params)\n",
    "    ecg_model.summary(line_length=120)\n",
    "else:\n",
    "    print('Model not built.')"
   ]
  },
  {
   "cell_type": "markdown",
   "id": "3f946deb",
   "metadata": {},
   "source": [
    "### Load a previous model  \n",
    "Model formats supported: .h5, .json, TensorFlow SavedModel (provide a directory)."
   ]
  },
  {
   "cell_type": "code",
   "execution_count": 10,
   "id": "1075bebe",
   "metadata": {},
   "outputs": [
    {
     "name": "stdout",
     "output_type": "stream",
     "text": [
      "./checkpoint\\InceptionTimeNetV4-D05\\InceptionTimeNetV4-D05.h5\n",
      "Model: \"InceptionTimeNetV4-D05\"\n",
      "________________________________________________________________________________________________________________________\n",
      " Layer (type)                          Output Shape               Param #       Connected to                            \n",
      "========================================================================================================================\n",
      " ecg_input (InputLayer)                [(None, 7500, 1)]          0             []                                      \n",
      "                                                                                                                        \n",
      " Conv1_1 (Conv1D)                      (None, 7500, 32)           288           ['ecg_input[0][0]']                     \n",
      "                                                                                                                        \n",
      " Conv2_1 (Conv1D)                      (None, 7500, 32)           544           ['ecg_input[0][0]']                     \n",
      "                                                                                                                        \n",
      " Conv3_1 (Conv1D)                      (None, 7500, 32)           1056          ['ecg_input[0][0]']                     \n",
      "                                                                                                                        \n",
      " Conv4_1 (Conv1D)                      (None, 7500, 32)           2080          ['ecg_input[0][0]']                     \n",
      "                                                                                                                        \n",
      " BN1_1 (BatchNormalization)            (None, 7500, 32)           128           ['Conv1_1[0][0]']                       \n",
      "                                                                                                                        \n",
      " BN2_1 (BatchNormalization)            (None, 7500, 32)           128           ['Conv2_1[0][0]']                       \n",
      "                                                                                                                        \n",
      " BN3_1 (BatchNormalization)            (None, 7500, 32)           128           ['Conv3_1[0][0]']                       \n",
      "                                                                                                                        \n",
      " BN4_1 (BatchNormalization)            (None, 7500, 32)           128           ['Conv4_1[0][0]']                       \n",
      "                                                                                                                        \n",
      " ReLU1_1 (ReLU)                        (None, 7500, 32)           0             ['BN1_1[0][0]']                         \n",
      "                                                                                                                        \n",
      " ReLU2_1 (ReLU)                        (None, 7500, 32)           0             ['BN2_1[0][0]']                         \n",
      "                                                                                                                        \n",
      " ReLU3_1 (ReLU)                        (None, 7500, 32)           0             ['BN3_1[0][0]']                         \n",
      "                                                                                                                        \n",
      " ReLU4_1 (ReLU)                        (None, 7500, 32)           0             ['BN4_1[0][0]']                         \n",
      "                                                                                                                        \n",
      " MaxPool_1 (MaxPooling1D)              (None, 7500, 1)            0             ['ecg_input[0][0]']                     \n",
      "                                                                                                                        \n",
      " Drop1_1 (Dropout)                     (None, 7500, 32)           0             ['ReLU1_1[0][0]']                       \n",
      "                                                                                                                        \n",
      " Drop2_1 (Dropout)                     (None, 7500, 32)           0             ['ReLU2_1[0][0]']                       \n",
      "                                                                                                                        \n",
      " Drop3_1 (Dropout)                     (None, 7500, 32)           0             ['ReLU3_1[0][0]']                       \n",
      "                                                                                                                        \n",
      " Drop4_1 (Dropout)                     (None, 7500, 32)           0             ['ReLU4_1[0][0]']                       \n",
      "                                                                                                                        \n",
      " Conv_skip_1 (Conv1D)                  (None, 7500, 32)           64            ['MaxPool_1[0][0]']                     \n",
      "                                                                                                                        \n",
      " Concat_1 (Concatenate)                (None, 7500, 160)          0             ['Drop1_1[0][0]',                       \n",
      "                                                                                 'Drop2_1[0][0]',                       \n",
      "                                                                                 'Drop3_1[0][0]',                       \n",
      "                                                                                 'Drop4_1[0][0]',                       \n",
      "                                                                                 'Conv_skip_1[0][0]']                   \n",
      "                                                                                                                        \n",
      " Conv1_2 (Conv1D)                      (None, 3750, 32)           40992         ['Concat_1[0][0]']                      \n",
      "                                                                                                                        \n",
      " Conv2_2 (Conv1D)                      (None, 3750, 32)           81952         ['Concat_1[0][0]']                      \n",
      "                                                                                                                        \n",
      " Conv3_2 (Conv1D)                      (None, 3750, 32)           163872        ['Concat_1[0][0]']                      \n",
      "                                                                                                                        \n",
      " Conv4_2 (Conv1D)                      (None, 3750, 32)           327712        ['Concat_1[0][0]']                      \n",
      "                                                                                                                        \n",
      " BN1_2 (BatchNormalization)            (None, 3750, 32)           128           ['Conv1_2[0][0]']                       \n",
      "                                                                                                                        \n",
      " BN2_2 (BatchNormalization)            (None, 3750, 32)           128           ['Conv2_2[0][0]']                       \n",
      "                                                                                                                        \n",
      " BN3_2 (BatchNormalization)            (None, 3750, 32)           128           ['Conv3_2[0][0]']                       \n",
      "                                                                                                                        \n",
      " BN4_2 (BatchNormalization)            (None, 3750, 32)           128           ['Conv4_2[0][0]']                       \n",
      "                                                                                                                        \n",
      " ReLU1_2 (ReLU)                        (None, 3750, 32)           0             ['BN1_2[0][0]']                         \n",
      "                                                                                                                        \n",
      " ReLU2_2 (ReLU)                        (None, 3750, 32)           0             ['BN2_2[0][0]']                         \n",
      "                                                                                                                        \n"
     ]
    },
    {
     "name": "stdout",
     "output_type": "stream",
     "text": [
      " ReLU3_2 (ReLU)                        (None, 3750, 32)           0             ['BN3_2[0][0]']                         \n",
      "                                                                                                                        \n",
      " ReLU4_2 (ReLU)                        (None, 3750, 32)           0             ['BN4_2[0][0]']                         \n",
      "                                                                                                                        \n",
      " MaxPool_2 (MaxPooling1D)              (None, 7500, 160)          0             ['Concat_1[0][0]']                      \n",
      "                                                                                                                        \n",
      " Drop1_2 (Dropout)                     (None, 3750, 32)           0             ['ReLU1_2[0][0]']                       \n",
      "                                                                                                                        \n",
      " Drop2_2 (Dropout)                     (None, 3750, 32)           0             ['ReLU2_2[0][0]']                       \n",
      "                                                                                                                        \n",
      " Drop3_2 (Dropout)                     (None, 3750, 32)           0             ['ReLU3_2[0][0]']                       \n",
      "                                                                                                                        \n",
      " Drop4_2 (Dropout)                     (None, 3750, 32)           0             ['ReLU4_2[0][0]']                       \n",
      "                                                                                                                        \n",
      " Conv_skip_2 (Conv1D)                  (None, 3750, 32)           5152          ['MaxPool_2[0][0]']                     \n",
      "                                                                                                                        \n",
      " Concat_2 (Concatenate)                (None, 3750, 160)          0             ['Drop1_2[0][0]',                       \n",
      "                                                                                 'Drop2_2[0][0]',                       \n",
      "                                                                                 'Drop3_2[0][0]',                       \n",
      "                                                                                 'Drop4_2[0][0]',                       \n",
      "                                                                                 'Conv_skip_2[0][0]']                   \n",
      "                                                                                                                        \n",
      " Conv1_3 (Conv1D)                      (None, 1875, 32)           40992         ['Concat_2[0][0]']                      \n",
      "                                                                                                                        \n",
      " Conv2_3 (Conv1D)                      (None, 1875, 32)           81952         ['Concat_2[0][0]']                      \n",
      "                                                                                                                        \n",
      " Conv3_3 (Conv1D)                      (None, 1875, 32)           163872        ['Concat_2[0][0]']                      \n",
      "                                                                                                                        \n",
      " Conv4_3 (Conv1D)                      (None, 1875, 32)           327712        ['Concat_2[0][0]']                      \n",
      "                                                                                                                        \n",
      " BN1_3 (BatchNormalization)            (None, 1875, 32)           128           ['Conv1_3[0][0]']                       \n",
      "                                                                                                                        \n",
      " BN2_3 (BatchNormalization)            (None, 1875, 32)           128           ['Conv2_3[0][0]']                       \n",
      "                                                                                                                        \n",
      " BN3_3 (BatchNormalization)            (None, 1875, 32)           128           ['Conv3_3[0][0]']                       \n",
      "                                                                                                                        \n",
      " BN4_3 (BatchNormalization)            (None, 1875, 32)           128           ['Conv4_3[0][0]']                       \n",
      "                                                                                                                        \n",
      " ReLU1_3 (ReLU)                        (None, 1875, 32)           0             ['BN1_3[0][0]']                         \n",
      "                                                                                                                        \n",
      " ReLU2_3 (ReLU)                        (None, 1875, 32)           0             ['BN2_3[0][0]']                         \n",
      "                                                                                                                        \n",
      " ReLU3_3 (ReLU)                        (None, 1875, 32)           0             ['BN3_3[0][0]']                         \n",
      "                                                                                                                        \n",
      " ReLU4_3 (ReLU)                        (None, 1875, 32)           0             ['BN4_3[0][0]']                         \n",
      "                                                                                                                        \n",
      " MaxPool_3 (MaxPooling1D)              (None, 3750, 160)          0             ['Concat_2[0][0]']                      \n",
      "                                                                                                                        \n",
      " Drop1_3 (Dropout)                     (None, 1875, 32)           0             ['ReLU1_3[0][0]']                       \n",
      "                                                                                                                        \n",
      " Drop2_3 (Dropout)                     (None, 1875, 32)           0             ['ReLU2_3[0][0]']                       \n",
      "                                                                                                                        \n",
      " Drop3_3 (Dropout)                     (None, 1875, 32)           0             ['ReLU3_3[0][0]']                       \n",
      "                                                                                                                        \n",
      " Drop4_3 (Dropout)                     (None, 1875, 32)           0             ['ReLU4_3[0][0]']                       \n",
      "                                                                                                                        \n",
      " Conv_skip_3 (Conv1D)                  (None, 1875, 32)           5152          ['MaxPool_3[0][0]']                     \n",
      "                                                                                                                        \n",
      " Concat_3 (Concatenate)                (None, 1875, 160)          0             ['Drop1_3[0][0]',                       \n",
      "                                                                                 'Drop2_3[0][0]',                       \n",
      "                                                                                 'Drop3_3[0][0]',                       \n",
      "                                                                                 'Drop4_3[0][0]',                       \n",
      "                                                                                 'Conv_skip_3[0][0]']                   \n",
      "                                                                                                                        \n",
      " Pad_4 (ZeroPadding1D)                 (None, 1876, 160)          0             ['Concat_3[0][0]']                      \n",
      "                                                                                                                        \n",
      " Conv1_4 (Conv1D)                      (None, 938, 32)            40992         ['Pad_4[0][0]']                         \n",
      "                                                                                                                        \n"
     ]
    },
    {
     "name": "stdout",
     "output_type": "stream",
     "text": [
      " Conv2_4 (Conv1D)                      (None, 938, 32)            81952         ['Pad_4[0][0]']                         \n",
      "                                                                                                                        \n",
      " Conv3_4 (Conv1D)                      (None, 938, 32)            163872        ['Pad_4[0][0]']                         \n",
      "                                                                                                                        \n",
      " Conv4_4 (Conv1D)                      (None, 938, 32)            327712        ['Pad_4[0][0]']                         \n",
      "                                                                                                                        \n",
      " BN1_4 (BatchNormalization)            (None, 938, 32)            128           ['Conv1_4[0][0]']                       \n",
      "                                                                                                                        \n",
      " BN2_4 (BatchNormalization)            (None, 938, 32)            128           ['Conv2_4[0][0]']                       \n",
      "                                                                                                                        \n",
      " BN3_4 (BatchNormalization)            (None, 938, 32)            128           ['Conv3_4[0][0]']                       \n",
      "                                                                                                                        \n",
      " BN4_4 (BatchNormalization)            (None, 938, 32)            128           ['Conv4_4[0][0]']                       \n",
      "                                                                                                                        \n",
      " ReLU1_4 (ReLU)                        (None, 938, 32)            0             ['BN1_4[0][0]']                         \n",
      "                                                                                                                        \n",
      " ReLU2_4 (ReLU)                        (None, 938, 32)            0             ['BN2_4[0][0]']                         \n",
      "                                                                                                                        \n",
      " ReLU3_4 (ReLU)                        (None, 938, 32)            0             ['BN3_4[0][0]']                         \n",
      "                                                                                                                        \n",
      " ReLU4_4 (ReLU)                        (None, 938, 32)            0             ['BN4_4[0][0]']                         \n",
      "                                                                                                                        \n",
      " MaxPool_4 (MaxPooling1D)              (None, 1876, 160)          0             ['Pad_4[0][0]']                         \n",
      "                                                                                                                        \n",
      " Drop1_4 (Dropout)                     (None, 938, 32)            0             ['ReLU1_4[0][0]']                       \n",
      "                                                                                                                        \n",
      " Drop2_4 (Dropout)                     (None, 938, 32)            0             ['ReLU2_4[0][0]']                       \n",
      "                                                                                                                        \n",
      " Drop3_4 (Dropout)                     (None, 938, 32)            0             ['ReLU3_4[0][0]']                       \n",
      "                                                                                                                        \n",
      " Drop4_4 (Dropout)                     (None, 938, 32)            0             ['ReLU4_4[0][0]']                       \n",
      "                                                                                                                        \n",
      " Conv_skip_4 (Conv1D)                  (None, 938, 32)            5152          ['MaxPool_4[0][0]']                     \n",
      "                                                                                                                        \n",
      " Concat_4 (Concatenate)                (None, 938, 160)           0             ['Drop1_4[0][0]',                       \n",
      "                                                                                 'Drop2_4[0][0]',                       \n",
      "                                                                                 'Drop3_4[0][0]',                       \n",
      "                                                                                 'Drop4_4[0][0]',                       \n",
      "                                                                                 'Conv_skip_4[0][0]']                   \n",
      "                                                                                                                        \n",
      " Conv1_5 (Conv1D)                      (None, 469, 32)            40992         ['Concat_4[0][0]']                      \n",
      "                                                                                                                        \n",
      " Conv2_5 (Conv1D)                      (None, 469, 32)            81952         ['Concat_4[0][0]']                      \n",
      "                                                                                                                        \n",
      " Conv3_5 (Conv1D)                      (None, 469, 32)            163872        ['Concat_4[0][0]']                      \n",
      "                                                                                                                        \n",
      " Conv4_5 (Conv1D)                      (None, 469, 32)            327712        ['Concat_4[0][0]']                      \n",
      "                                                                                                                        \n",
      " BN1_5 (BatchNormalization)            (None, 469, 32)            128           ['Conv1_5[0][0]']                       \n",
      "                                                                                                                        \n",
      " BN2_5 (BatchNormalization)            (None, 469, 32)            128           ['Conv2_5[0][0]']                       \n",
      "                                                                                                                        \n",
      " BN3_5 (BatchNormalization)            (None, 469, 32)            128           ['Conv3_5[0][0]']                       \n",
      "                                                                                                                        \n",
      " BN4_5 (BatchNormalization)            (None, 469, 32)            128           ['Conv4_5[0][0]']                       \n",
      "                                                                                                                        \n",
      " ReLU1_5 (ReLU)                        (None, 469, 32)            0             ['BN1_5[0][0]']                         \n",
      "                                                                                                                        \n",
      " ReLU2_5 (ReLU)                        (None, 469, 32)            0             ['BN2_5[0][0]']                         \n",
      "                                                                                                                        \n",
      " ReLU3_5 (ReLU)                        (None, 469, 32)            0             ['BN3_5[0][0]']                         \n",
      "                                                                                                                        \n",
      " ReLU4_5 (ReLU)                        (None, 469, 32)            0             ['BN4_5[0][0]']                         \n",
      "                                                                                                                        \n",
      " MaxPool_5 (MaxPooling1D)              (None, 938, 160)           0             ['Concat_4[0][0]']                      \n",
      "                                                                                                                        \n",
      " Drop1_5 (Dropout)                     (None, 469, 32)            0             ['ReLU1_5[0][0]']                       \n",
      "                                                                                                                        \n"
     ]
    },
    {
     "name": "stdout",
     "output_type": "stream",
     "text": [
      " Drop2_5 (Dropout)                     (None, 469, 32)            0             ['ReLU2_5[0][0]']                       \n",
      "                                                                                                                        \n",
      " Drop3_5 (Dropout)                     (None, 469, 32)            0             ['ReLU3_5[0][0]']                       \n",
      "                                                                                                                        \n",
      " Drop4_5 (Dropout)                     (None, 469, 32)            0             ['ReLU4_5[0][0]']                       \n",
      "                                                                                                                        \n",
      " Conv_skip_5 (Conv1D)                  (None, 469, 32)            5152          ['MaxPool_5[0][0]']                     \n",
      "                                                                                                                        \n",
      " Concat_5 (Concatenate)                (None, 469, 160)           0             ['Drop1_5[0][0]',                       \n",
      "                                                                                 'Drop2_5[0][0]',                       \n",
      "                                                                                 'Drop3_5[0][0]',                       \n",
      "                                                                                 'Drop4_5[0][0]',                       \n",
      "                                                                                 'Conv_skip_5[0][0]']                   \n",
      "                                                                                                                        \n",
      " AvgPool (GlobalAveragePooling1D)      (None, 160)                0             ['Concat_5[0][0]']                      \n",
      "                                                                                                                        \n",
      " FC_6 (Dense)                          (None, 128)                20608         ['AvgPool[0][0]']                       \n",
      "                                                                                                                        \n",
      " Drop_6 (Dropout)                      (None, 128)                0             ['FC_6[0][0]']                          \n",
      "                                                                                                                        \n",
      " FC_7 (Dense)                          (None, 64)                 8256          ['Drop_6[0][0]']                        \n",
      "                                                                                                                        \n",
      " Drop_7 (Dropout)                      (None, 64)                 0             ['FC_7[0][0]']                          \n",
      "                                                                                                                        \n",
      " FC_8 (Dense)                          (None, 16)                 1040          ['Drop_7[0][0]']                        \n",
      "                                                                                                                        \n",
      " FC_9 (Dense)                          (None, 4)                  68            ['FC_8[0][0]']                          \n",
      "                                                                                                                        \n",
      "========================================================================================================================\n",
      "Total params: 2,515,284\n",
      "Trainable params: 2,514,004\n",
      "Non-trainable params: 1,280\n",
      "________________________________________________________________________________________________________________________\n"
     ]
    }
   ],
   "source": [
    "load_previous = True\n",
    "if load_previous:\n",
    "    model_file_name = model_file_base + '.h5'\n",
    "    print(model_file_name)\n",
    "    ecg_model = mu.load_model(model_file_name)\n",
    "    ecg_model.summary(line_length=120)\n",
    "else:\n",
    "    print('Model not loaded.')"
   ]
  },
  {
   "cell_type": "code",
   "execution_count": null,
   "id": "bb3f8fd6",
   "metadata": {
    "scrolled": true
   },
   "outputs": [],
   "source": [
    "png_file = os.path.join(checkpoint_dir, '{}.png'.format(model_name))\n",
    "tf.keras.utils.plot_model(ecg_model, dpi=72, show_shapes=True, to_file=png_file)"
   ]
  },
  {
   "cell_type": "markdown",
   "id": "948f97fc",
   "metadata": {},
   "source": [
    "### Compile the model "
   ]
  },
  {
   "cell_type": "code",
   "execution_count": 11,
   "id": "c7465b04",
   "metadata": {},
   "outputs": [],
   "source": [
    "# Compile the model.\n",
    "initial_lr = 0.001\n",
    "\n",
    "opt = tf.keras.optimizers.Adam(\n",
    "    learning_rate=initial_lr,\n",
    "    beta_1=0.9,\n",
    "    beta_2=0.999,\n",
    "    epsilon=1.0e-07,\n",
    ")\n",
    "\n",
    "ecg_model.compile(\n",
    "    optimizer=opt, \n",
    "    loss='categorical_crossentropy',\n",
    "    metrics=['accuracy']\n",
    ")"
   ]
  },
  {
   "cell_type": "markdown",
   "id": "48d82e3f",
   "metadata": {},
   "source": [
    "### Train the model"
   ]
  },
  {
   "cell_type": "code",
   "execution_count": 6,
   "id": "13f4f1ae",
   "metadata": {},
   "outputs": [],
   "source": [
    "# Set up training callbacks.\n",
    "train_history = None\n",
    "monitor_label = 'val_accuracy'\n",
    "monitor_mode  = 'max'\n",
    "ckpt = ModelCheckpoint(\n",
    "    filepath=os.path.join(checkpoint_dir, 'weights-it03-{epoch:04d}.h5'),\n",
    "    monitor=monitor_label, \n",
    "    mode=monitor_mode,\n",
    "    save_best_only=True, \n",
    "    save_weights_only = True,\n",
    "    verbose=1, \n",
    ")\n",
    "esc = EarlyStopping(\n",
    "    monitor=monitor_label,\n",
    "    mode=monitor_mode,\n",
    "    min_delta=0, \n",
    "    patience=7, \n",
    "    restore_best_weights=True,\n",
    "    verbose=1,\n",
    ")\n",
    "rop = ReduceLROnPlateau(\n",
    "    monitor=monitor_label,\n",
    "    mode=monitor_mode,\n",
    "    min_delta=0,\n",
    "    factor=0.5,\n",
    "    min_lr=1.0e-08,\n",
    "    patience=2,\n",
    "    cooldown=0,\n",
    "    verbose=1, \n",
    ")"
   ]
  },
  {
   "cell_type": "code",
   "execution_count": 13,
   "id": "1c100849",
   "metadata": {},
   "outputs": [
    {
     "name": "stdout",
     "output_type": "stream",
     "text": [
      "Model weights loaded: ./checkpoint\\InceptionTimeNetV4-D05\\weights-it01-0033.h5\n"
     ]
    }
   ],
   "source": [
    "# Load pre-existing weights.\n",
    "load_weights = True\n",
    "model_weights_file = os.path.join(checkpoint_dir, 'weights-it01-0033.h5')\n",
    "if load_weights:\n",
    "    if mu.load_weights(ecg_model, model_weights_file):\n",
    "        print('Model weights loaded: {}'.format(model_weights_file))\n",
    "else:\n",
    "    print('Model weights not loaded.')"
   ]
  },
  {
   "cell_type": "code",
   "execution_count": 14,
   "id": "8d69907a",
   "metadata": {},
   "outputs": [
    {
     "name": "stdout",
     "output_type": "stream",
     "text": [
      "Model not trained.\n"
     ]
    }
   ],
   "source": [
    "num_epochs = 1\n",
    "train_model = False\n",
    "if train_model:\n",
    "    print('{} Training start.'.format(ic.timestamp()))\n",
    "    \n",
    "    train_history = ecg_model.fit(\n",
    "        x=train_ds, \n",
    "        validation_data=val_ds, \n",
    "        callbacks=[ckpt, rop, esc],\n",
    "        epochs=num_epochs)\n",
    "    \n",
    "    print('{} Training complete.'.format(ic.timestamp()))\n",
    "else:\n",
    "    print('Model not trained.')"
   ]
  },
  {
   "cell_type": "markdown",
   "id": "71053ccf",
   "metadata": {},
   "source": [
    "### Save the model"
   ]
  },
  {
   "cell_type": "code",
   "execution_count": 15,
   "id": "09a2e6ee",
   "metadata": {},
   "outputs": [
    {
     "name": "stdout",
     "output_type": "stream",
     "text": [
      "ECG model not saved\n"
     ]
    }
   ],
   "source": [
    "save_model = False\n",
    "if save_model:\n",
    "    saved = mu.save_model(ecg_model, model_file_base)\n",
    "    print('ECG model saved to {}'.format(model_file_base))\n",
    "else:\n",
    "    print('ECG model not saved')"
   ]
  },
  {
   "cell_type": "markdown",
   "id": "e29d01c7",
   "metadata": {},
   "source": [
    "### Evaluate and run predictions"
   ]
  },
  {
   "cell_type": "code",
   "execution_count": null,
   "id": "3e4cfee5",
   "metadata": {},
   "outputs": [],
   "source": [
    "# Evaluate the model.\n",
    "test_loss = ecg_model.evaluate(x=test_ds)\n",
    "print('loss:     {:0.5f}'.format(test_loss[0]))\n",
    "print('accuracy: {:0.5f}'.format(test_loss[1]))"
   ]
  },
  {
   "cell_type": "code",
   "execution_count": null,
   "id": "fa790477",
   "metadata": {},
   "outputs": [],
   "source": [
    "# Create the ground truth targets array.\n",
    "targets_list = []\n",
    "for tds in test_ds:\n",
    "    targets_list.append(tds[1])\n",
    "targets = np.squeeze(np.asarray(targets_list), 1) # Convert dataset to array, remove unused dimension\n",
    "print('Targets shape: {}'.format(targets.shape))"
   ]
  },
  {
   "cell_type": "code",
   "execution_count": null,
   "id": "ffbfe793",
   "metadata": {},
   "outputs": [],
   "source": [
    "# Perform predictions on the test dataset.\n",
    "predictions = np.asarray(\n",
    "    ecg_model.predict(\n",
    "        x=test_ds,\n",
    "        steps=None,\n",
    "        verbose=1\n",
    "    )\n",
    ")\n",
    "print('Predictions shape: {}'.format(predictions.shape))"
   ]
  },
  {
   "cell_type": "code",
   "execution_count": null,
   "id": "4266892c",
   "metadata": {},
   "outputs": [],
   "source": [
    "# Create a classification array.\n",
    "classifications = np.zeros(predictions.shape)\n",
    "idx_array = np.argmax(predictions, axis=1)\n",
    "for i in range(predictions.shape[0]):\n",
    "    p = predictions[i]\n",
    "    idx = idx_array[i]\n",
    "    if (p[idx] > 0.5):\n",
    "        classifications[i,idx] = 1"
   ]
  },
  {
   "cell_type": "code",
   "execution_count": null,
   "id": "ef87fdb6",
   "metadata": {},
   "outputs": [],
   "source": [
    "# Sanity check the first element.\n",
    "print('Prediction:     {}'.format(predictions[0]))\n",
    "print('Target:         {}'.format(targets[0]))\n",
    "print('Classification: {}'.format(classifications[0]))"
   ]
  },
  {
   "cell_type": "markdown",
   "id": "8843c4d8",
   "metadata": {},
   "source": [
    "### Save the results"
   ]
  },
  {
   "cell_type": "code",
   "execution_count": null,
   "id": "191a0c31",
   "metadata": {},
   "outputs": [],
   "source": [
    "# Function to append current history to previous history\n",
    "def append_history(h_current, h_new):\n",
    "    for k in h_new:\n",
    "        if k in h_current:\n",
    "            h_current[k] += d \n",
    "        else:\n",
    "            h_current[k] = h_new[k]\n",
    "    return h_current"
   ]
  },
  {
   "cell_type": "code",
   "execution_count": 7,
   "id": "68b3ce50",
   "metadata": {},
   "outputs": [
    {
     "name": "stdout",
     "output_type": "stream",
     "text": [
      "Results not saved.\n"
     ]
    }
   ],
   "source": [
    "# Save the results.\n",
    "save_results = False\n",
    "pickle_file = model_file_base + '_results.pickle'\n",
    "\n",
    "# Append training history.\n",
    "total_history = None\n",
    "\n",
    "if train_history is not None:\n",
    "    if os.path.isfile(pickle_file):\n",
    "        saved_results = mu.load_results(pickle_file)\n",
    "        total_history = append_history(saved_results['history'], train_history.history)\n",
    "    else:\n",
    "        total_history = train_history.history  \n",
    "    \n",
    "if save_results:\n",
    "    pickle_results = {\n",
    "        'params' : params,\n",
    "        'max_epochs' : num_epochs,\n",
    "        'class_names' : ic.CLASS_NAMES,\n",
    "        'targets' : targets,\n",
    "        'predictions' : predictions,\n",
    "        'classifications' : classifications,\n",
    "        'history' : total_history\n",
    "    }\n",
    "    print(mu.save_results(pickle_results, pickle_file))\n",
    "    print('Results saved to {}.'.format(pickle_file))\n",
    "else:\n",
    "    print('Results not saved.')"
   ]
  },
  {
   "cell_type": "markdown",
   "id": "f9d26fbe",
   "metadata": {},
   "source": [
    "### Load previously saved results"
   ]
  },
  {
   "cell_type": "code",
   "execution_count": 8,
   "id": "3bc4b059",
   "metadata": {},
   "outputs": [
    {
     "name": "stdout",
     "output_type": "stream",
     "text": [
      "Previous results loaded.\n"
     ]
    }
   ],
   "source": [
    "load_previous = True\n",
    "if load_previous:\n",
    "    saved_results = mu.load_results(pickle_file)\n",
    "    num_epochs = saved_results['max_epochs']\n",
    "    targets = saved_results['targets']\n",
    "    predictions = saved_results['predictions']\n",
    "    classifications = saved_results['classifications']\n",
    "    total_history = saved_results['history']\n",
    "    print('Previous results loaded.')\n",
    "else:\n",
    "    print('Previous results not loaded.')"
   ]
  },
  {
   "cell_type": "markdown",
   "id": "10743a8c",
   "metadata": {},
   "source": [
    "### Compute metrics"
   ]
  },
  {
   "cell_type": "code",
   "execution_count": 18,
   "id": "c7be1198",
   "metadata": {},
   "outputs": [
    {
     "name": "stdout",
     "output_type": "stream",
     "text": [
      "              precision    recall  f1-score   support\n",
      "\n",
      "           Q       0.96      0.97      0.97      1750\n",
      "           N       0.97      0.96      0.97      1750\n",
      "         AFL       0.97      0.94      0.95      1750\n",
      "        AFIB       0.95      0.96      0.95      1750\n",
      "\n",
      "   micro avg       0.96      0.96      0.96      7000\n",
      "   macro avg       0.96      0.96      0.96      7000\n",
      "weighted avg       0.96      0.96      0.96      7000\n",
      " samples avg       0.96      0.96      0.96      7000\n",
      "\n"
     ]
    }
   ],
   "source": [
    "# Run a classification report.\n",
    "report = classification_report(targets, classifications, target_names=ic.CLASS_NAMES, zero_division=0)\n",
    "print(report)"
   ]
  },
  {
   "cell_type": "code",
   "execution_count": 29,
   "id": "55281ae3",
   "metadata": {},
   "outputs": [
    {
     "name": "stdout",
     "output_type": "stream",
     "text": [
      "Confusion matrix for class Q:\n",
      "[[5176   74]\n",
      " [  47 1703]]\n",
      "ACC: 0.9827\n",
      "PPV: 0.9584\n",
      "AUC: 0.9795\n",
      "\n",
      "Confusion matrix for class N:\n",
      "[[5190   60]\n",
      " [  62 1688]]\n",
      "ACC: 0.9826\n",
      "PPV: 0.9657\n",
      "AUC: 0.9766\n",
      "\n",
      "Confusion matrix for class AFL:\n",
      "[[5197   53]\n",
      " [ 103 1647]]\n",
      "ACC: 0.9777\n",
      "PPV: 0.9688\n",
      "AUC: 0.9655\n",
      "\n",
      "Confusion matrix for class AFIB:\n",
      "[[5158   92]\n",
      " [  77 1673]]\n",
      "ACC: 0.9759\n",
      "PPV: 0.9479\n",
      "AUC: 0.9692\n",
      "\n",
      "There are 10 predictions with no classification (0.14%).\n",
      "True Q    : 0\n",
      "True N    : 0\n",
      "True AFL  : 4\n",
      "True AFIB : 6\n"
     ]
    }
   ],
   "source": [
    "# Additional metrics for each class.\n",
    "for i in range(ic.NUM_CLASSES):\n",
    "    cm = confusion_matrix(targets[:,i], classifications[:,i])\n",
    "    acc = (cm[0,0] + cm[1,1]) / np.sum(cm)\n",
    "    ppv = cm[1,1] / (cm[1,1] + cm[0,1])\n",
    "    fpr, tpr, _ = roc_curve(targets[:,i], classifications[:,i])\n",
    "    roc_auc = auc(fpr, tpr)\n",
    "    print('Confusion matrix for class {}:'.format(ic.CLASS_NAMES[i]))\n",
    "    print(cm)\n",
    "    print('ACC: {:0.4f}'.format(acc))\n",
    "    print('PPV: {:0.4f}'.format(ppv))\n",
    "    print('AUC: {:0.4f}'.format(roc_auc))\n",
    "    print()\n",
    "\n",
    "no_class_counts = np.zeros(ic.NUM_CLASSES)\n",
    "num_examples = targets.shape[0]\n",
    "for i in range(num_examples):\n",
    "    if np.sum(classifications[i]) == 0:\n",
    "        no_class_counts[np.argmax(targets[i])] += 1\n",
    "no_class_sum = np.sum(no_class_counts)\n",
    "no_class_pct = 100. * no_class_sum / num_examples\n",
    "print('There are {} predictions with no classification ({:0.2f}%).'.format(int(no_class_sum), no_class_pct))\n",
    "for i in range(ic.NUM_CLASSES):\n",
    "    print('True {:5s}: {}'.format(ic.CLASS_NAMES[i], int(no_class_counts[i])))"
   ]
  },
  {
   "cell_type": "markdown",
   "id": "d26a4e84",
   "metadata": {},
   "source": [
    "### Plot training metrics  "
   ]
  },
  {
   "cell_type": "code",
   "execution_count": 12,
   "id": "958024db",
   "metadata": {},
   "outputs": [
    {
     "name": "stdout",
     "output_type": "stream",
     "text": [
      "Total epochs: 40\n",
      "Max val_accuracy at epoch 33: 0.9554\n",
      "Train accuracy at epoch 33:   0.9838\n",
      "Difference: -2.89%\n"
     ]
    },
    {
     "data": {
      "image/png": "[encoded data removed]",
      "text/plain": [
       "<Figure size 1152x288 with 3 Axes>"
      ]
     },
     "metadata": {
      "needs_background": "light"
     },
     "output_type": "display_data"
    }
   ],
   "source": [
    "fig, (ax_acc, ax_mse, ax_lr) = plt.subplots(nrows=1, ncols=3, figsize=(16, 4))\n",
    "plt.yscale('linear')\n",
    "\n",
    "total_epochs = len(total_history['loss'])\n",
    "max_idx = np.argmax(total_history['val_accuracy'])\n",
    "max_acc = total_history['val_accuracy'][max_idx]\n",
    "train_acc = total_history['accuracy'][max_idx]\n",
    "diff = 100. * (max_acc-train_acc)/train_acc\n",
    "print('Total epochs: {}'.format(total_epochs))\n",
    "print('Max val_accuracy at epoch {}: {:0.4f}'.format(max_idx+1, max_acc))\n",
    "print('Train accuracy at epoch {}:   {:0.4f}'.format(max_idx+1, train_acc))\n",
    "print('Difference: {:0.2f}%'.format(diff))\n",
    "\n",
    "ax_acc.plot(range(1, total_epochs+1), total_history['accuracy'], color='blue', label='Training')\n",
    "ax_acc.plot(range(1, total_epochs+1), total_history['val_accuracy'], color='red', label='Validation')\n",
    "ax_acc.set_xlabel('Epoch')\n",
    "ax_acc.set_ylabel('Accuracy')\n",
    "ax_acc.set_title('Classification Accuracy per Epoch')\n",
    "ax_acc.legend()\n",
    "\n",
    "ax_mse.plot(range(1, total_epochs+1), total_history['loss'], color='blue', label='Training')\n",
    "ax_mse.plot(range(1, total_epochs+1), total_history['val_loss'], color='red', label='Validation')\n",
    "ax_mse.set_xlabel('Epoch')\n",
    "ax_mse.set_ylabel('Loss')\n",
    "ax_mse.set_title('Loss per Epoch')\n",
    "ax_mse.legend()\n",
    "\n",
    "plt.yscale('log')\n",
    "ax_lr.plot(range(1, total_epochs+1), total_history['lr'], color='blue')\n",
    "ax_lr.set_xlabel('Epoch')\n",
    "ax_lr.set_ylabel('Learning Rate')\n",
    "ax_lr.set_title('Learning Rate per Epoch')\n",
    "\n",
    "plt.show()"
   ]
  },
  {
   "cell_type": "code",
   "execution_count": null,
   "id": "d0d1782a",
   "metadata": {},
   "outputs": [],
   "source": []
  },
  {
   "cell_type": "markdown",
   "id": "2eb3b320",
   "metadata": {},
   "source": [
    "### Plot a confusion matrix"
   ]
  },
  {
   "cell_type": "code",
   "execution_count": 31,
   "id": "3d7a7a08",
   "metadata": {},
   "outputs": [],
   "source": [
    "class my_formatter(matplotlib.ticker.Formatter):\n",
    "    def __init__(self, x, pos):\n",
    "        super(matplotlib.ticker.Formatter, self).__init__()\n",
    "    def __call__(self, x, pos):\n",
    "        return '{:0.2f}'.format(10.**x)"
   ]
  },
  {
   "cell_type": "code",
   "execution_count": 32,
   "id": "39a0096c",
   "metadata": {},
   "outputs": [],
   "source": [
    "def plot_confusion_matrix(targets, classifications, class_names):\n",
    "    num_examples = targets.shape[0]\n",
    "    num_classes = targets.shape[1]\n",
    "    \n",
    "    # Count plot_confusion_matrixactual vs. classification instances.\n",
    "    heatmap_data = np.zeros((num_classes, num_classes))\n",
    "    for i in range(num_examples):\n",
    "        x = np.argmax(classifications[i])\n",
    "        y = np.argmax(targets[i])\n",
    "        heatmap_data[x, (num_classes - y - 1)] += 1\n",
    "    #print(heatmap_data)\n",
    "    heatmap_pct = (heatmap_data * 100) / num_examples  # Convert to percent of total\n",
    "    #print(heatmap_pct)\n",
    "    heatmap_data = np.log10(heatmap_pct)  # Convert to log scale for plotting\n",
    "    #print(heatmap_data)\n",
    "    \n",
    "    # Create the color plot.\n",
    "    fig, ax = plt.subplots()\n",
    "    heatmap = ax.pcolor(heatmap_data.T, cmap='Blues') \n",
    "    ax.set_xlabel('Predicted')\n",
    "    ax.set_ylabel('True')\n",
    "    ax.set_xticks(np.arange(num_classes)+0.5, labels=class_names,)\n",
    "    ax.set_yticks(np.arange(num_classes)+0.5, labels=reversed(class_names))\n",
    "\n",
    "    # Overlay values.\n",
    "    for i in range(ic.NUM_CLASSES):\n",
    "        for j in range(ic.NUM_CLASSES):\n",
    "            val = '{:0.2f}'.format(heatmap_pct[i, j])\n",
    "            text = ax.text(i+0.5, j+0.5, val, ha='center', va='center')\n",
    "\n",
    "    # Create a colorbar.\n",
    "    tickpos = [0.05, 0.1, 0.3, 1, 3, 10, 20]\n",
    "    ticklist = np.log10(tickpos)\n",
    "    plt.colorbar(heatmap, label='classification %', format=my_formatter(x, pos=None), ticks=ticklist)\n",
    "    plt.show()"
   ]
  },
  {
   "cell_type": "code",
   "execution_count": 33,
   "id": "29d01ca5",
   "metadata": {},
   "outputs": [
    {
     "data": {
      "image/png": "[encoded data removed]",
      "text/plain": [
       "<Figure size 432x288 with 2 Axes>"
      ]
     },
     "metadata": {
      "needs_background": "light"
     },
     "output_type": "display_data"
    }
   ],
   "source": [
    "plot_confusion_matrix(targets, classifications, ic.CLASS_NAMES)"
   ]
  },
  {
   "cell_type": "code",
   "execution_count": null,
   "id": "621fce07",
   "metadata": {},
   "outputs": [],
   "source": []
  }
 ],
 "metadata": {
  "kernelspec": {
   "display_name": "Python 3 (ipykernel)",
   "language": "python",
   "name": "python3"
  },
  "language_info": {
   "codemirror_mode": {
    "name": "ipython",
    "version": 3
   },
   "file_extension": ".py",
   "mimetype": "text/x-python",
   "name": "python",
   "nbconvert_exporter": "python",
   "pygments_lexer": "ipython3",
   "version": "3.10.10"
  }
 },
 "nbformat": 4,
 "nbformat_minor": 5
}

{
 "cells": [
  {
   "cell_type": "markdown",
   "id": "3a070cdf",
   "metadata": {},
   "source": [
    "# Icentia11k-05-download-sequences.ipynb\n",
    "Download Icentia11k ECG sequences using the ordered_master_xxx.csv files.  \n",
    "Run Icentia11k-04-ordered-sequences.ipynb and its prerequisites to create the CSV files.  \n",
    "See https://physionet.org/content/icentia11k-continuous-ecg/1.0/\n",
    "\n",
    "### Environment setup  "
   ]
  },
  {
   "cell_type": "code",
   "execution_count": 1,
   "id": "f3075ecf",
   "metadata": {},
   "outputs": [
    {
     "name": "stdout",
     "output_type": "stream",
     "text": [
      "You are here: D:\\dev\\jupyter\\deep-cnn-embedded\\src\\icentia11k\n"
     ]
    }
   ],
   "source": [
    "# Environment setup.\n",
    "import os\n",
    "import re\n",
    "import sys\n",
    "import numpy as np\n",
    "\n",
    "import fileutils as fu\n",
    "import icentia11k as ic\n",
    "import icentia11k_wfdb_utils as wfu\n",
    "\n",
    "print('You are here: {}'.format(os.getcwd()))"
   ]
  },
  {
   "cell_type": "code",
   "execution_count": 31,
   "id": "af8348d0",
   "metadata": {},
   "outputs": [],
   "source": [
    "# Global objects\n",
    "ordered_master_fd = {}  # Dictionary of ordered sequences master file descriptors\n",
    "\n",
    "# Data file match patterns.\n",
    "afl_dat_file_pat = re.compile('p(\\d{5})_s\\d{2}_AFL_\\d{7}_\\d{7}\\.dat')\n",
    "afib_dat_file_pat = re.compile('p(\\d{5})_s\\d{2}_AFIB_\\d{7}_\\d{7}\\.dat')\n",
    "n_dat_file_pat = re.compile('p(\\d{5})_s\\d{2}_N_\\d{7}_\\d{7}\\.dat')\n",
    "q_dat_file_pat = re.compile('p(\\d{5})_s\\d{2}_Q_\\d{7}_\\d{7}\\.dat')"
   ]
  },
  {
   "cell_type": "markdown",
   "id": "c0ec0bde",
   "metadata": {},
   "source": [
    "#### Functions to open and close files"
   ]
  },
  {
   "cell_type": "code",
   "execution_count": 32,
   "id": "aefac314",
   "metadata": {},
   "outputs": [],
   "source": [
    "# Function to open all ordered master sequence files. \n",
    "def open_all_master_files():\n",
    "    global ordered_master_fd\n",
    "    for rtype in ic.RTYPES:\n",
    "        om_filename = os.path.join(\n",
    "            ic.LOCAL_DATA_PATH,\n",
    "            '{}_{}.csv'.format(ic.ORDERED_MASTER_BN, rtype))\n",
    "        fd = fu.open_file(om_filename)\n",
    "        if fd is not None:\n",
    "            ordered_master_fd[rtype] = fd\n",
    "\n",
    "# Function to close all ordered master sequence files. \n",
    "def close_all_master_files():\n",
    "    global ordered_master_fd\n",
    "    for rtype in ic.RTYPES:\n",
    "        if rtype in ordered_master_fd:\n",
    "            fu.close_file(ordered_master_fd[rtype])"
   ]
  },
  {
   "cell_type": "markdown",
   "id": "5b5bfd9d",
   "metadata": {},
   "source": [
    "#### Function to get sequence from Icentia11k database and write it locally"
   ]
  },
  {
   "cell_type": "code",
   "execution_count": 47,
   "id": "9910db3c",
   "metadata": {},
   "outputs": [],
   "source": [
    "def get_sequence(patient_id, segment_id, rtype, start, length, stream):\n",
    "    ann = wfu.read_annotation(patient_id, segment_id, start=start, length=length, stream=stream)\n",
    "    if ann is None: return False\n",
    "    ecg = wfu.read_ecg(patient_id, segment_id, start=start, length=length, stream=stream)\n",
    "    if ecg is None: return False\n",
    "    ecg_sum = np.sum(ecg.p_signal)\n",
    "    ecg_std = np.std(ecg.p_signal)\n",
    "    if (ecg_std < 1e-3) or np.isinf(ecg_std) or np.isnan(ecg_std):\n",
    "        print('\\n*** ECG std: {:0.4f}: {}'.format(\n",
    "            ecg_std, \n",
    "            ic.get_wfdb_basename(patient_id, segment_id, rtype, start, length)))\n",
    "        return False\n",
    "    if np.isinf(ecg_sum):\n",
    "        print('\\n*** ECG contains +/-inf: {}'.format(\n",
    "            ic.get_wfdb_basename(patient_id, segment_id, rtype, start, length)))\n",
    "        return False\n",
    "    if np.isnan(ecg_sum):\n",
    "        print('\\n*** ECG contains NaN: {}'.format(\n",
    "            ic.get_wfdb_basename(patient_id, segment_id, rtype, start, length)))\n",
    "        return False\n",
    "    if not wfu.write_annotation(ann, patient_id, segment_id, rtype, start, length): return False\n",
    "    if not wfu.write_ecg(ecg, patient_id, segment_id, rtype, start, length): return False\n",
    "    return True"
   ]
  },
  {
   "cell_type": "markdown",
   "id": "ce3756a4",
   "metadata": {},
   "source": [
    "### Download ECG rhythm sequences  ¶\n",
    "Set `batch_size` to the maximum number of sequences of each type to download.  \n",
    "If `ignore_existing` is `True`, then ECG sequence files that already exist are skipped and <u>don't</u> count against the batch size.  Otherwise, ECG sequence files that already exist are skipped, but they <u>do</u> count against the batch size.  \n",
    "Each sequence is checked for errors.  If an error is found, the sequence should be manually removed from its ordered_master_*.csv file.  "
   ]
  },
  {
   "cell_type": "code",
   "execution_count": 48,
   "id": "4c6e3603",
   "metadata": {},
   "outputs": [
    {
     "name": "stdout",
     "output_type": "stream",
     "text": [
      "Target count: 80000\n",
      "100 200 300 400 500 600 700 800 900 1000 1100 1200 1300 1400 1500 1600 1700 1800 1900 2000 2100 2200 2300 2400 2500 2600 2700 2800 2900 3000 3100 3200 3300 3400 3500 3600 3700 3800 3900 4000 4100 4200 4300 4400 4500 4600 4700 4800 4900 5000 5100 5200 5300 5400 5500 5600 5700 5800 5900 6000 6100 6200 6300 6400 6500 6600 6700 6800 6900 7000 7100 7200 7300 7400 7500 7600 7700 7800 7900 8000 8100 8200 8300 8400 8500 8600 8700 8800 8900 9000 9100 9200 9300 9400 9500 9600 9700 9800 9900 10000 10100 10200 10300 10400 10500 10600 10700 10800 10900 11000 11100 11200 11300 11400 11500 11600 11700 11800 11900 12000 12100 12200 12300 12400 12500 12600 12700 12800 12900 13000 13100 13200 13300 13400 13500 13600 13700 13800 13900 14000 14100 14200 14300 14400 14500 14600 14700 14800 14900 15000 15100 15200 15300 15400 15500 15600 15700 15800 15900 16000 16100 16200 16300 16400 16500 16600 16700 16800 16900 17000 17100 17200 17300 17400 17500 17600 17700 17800 17900 18000 18100 18200 18300 18400 18500 18600 18700 18800 18900 19000 19100 19200 19300 19400 19500 19600 19700 19800 19900 20000 20100 20200 20300 20400 20500 20600 20700 20800 20900 21000 21100 21200 21300 21400 21500 21600 21700 21800 21900 22000 22100 22200 22300 \n",
      "*** ECG std: 0.0000: p07311_s01_Q_0566298_0008750\n",
      "22400 22500 22600 22700 22800 22900 23000 23100 23200 23300 23400 23500 23600 23700 23800 23900 24000 24100 24200 24300 24400 24500 24600 24700 24800 24900 25000 25100 25200 25300 25400 25500 25600 25700 25800 25900 26000 26100 26200 26300 26400 26500 26600 26700 26800 26900 27000 27100 27200 27300 27400 27500 27600 27700 27800 27900 28000 28100 28200 28300 28400 28500 28600 28700 28800 28900 29000 29100 29200 29300 29400 29500 29600 29700 29800 29900 30000 30100 30200 30300 30400 30500 30600 30700 30800 30900 31000 31100 31200 31300 31400 31500 31600 31700 31800 31900 32000 32100 32200 32300 32400 32500 32600 32700 32800 32900 33000 33100 33200 33300 33400 33500 33600 33700 33800 33900 34000 34100 34200 34300 34400 34500 34600 34700 34800 34900 35000 35100 35200 35300 35400 35500 35600 35700 35800 35900 36000 36100 36200 36300 36400 36500 36600 36700 36800 36900 37000 37100 37200 37300 37400 37500 37600 37700 37800 37900 38000 38100 38200 38300 38400 38500 38600 38700 38800 38900 39000 39100 39200 39300 39400 39500 39600 39700 39800 39900 40000 40100 40200 40300 40400 40500 40600 40700 40800 40900 41000 41100 41200 41300 41400 41500 41600 41700 41800 41900 42000 42100 42200 42300 42400 42500 42600 42700 42800 42900 43000 43100 43200 43300 43400 43500 43600 43700 43800 43900 44000 44100 44200 44300 44400 44500 44600 44700 44800 44900 45000 45100 45200 45300 45400 45500 45600 45700 45800 45900 46000 46100 46200 46300 46400 46500 46600 46700 46800 46900 47000 47100 47200 47300 47400 47500 47600 47700 47800 47900 48000 48100 48200 48300 48400 48500 48600 48700 48800 48900 49000 49100 49200 49300 49400 49500 49600 49700 49800 49900 50000 50100 50200 50300 50400 50500 50600 50700 50800 50900 51000 51100 51200 51300 51400 51500 51600 51700 51800 51900 52000 52100 52200 52300 52400 52500 52600 52700 52800 52900 53000 53100 53200 53300 53400 53500 53600 53700 \n",
      "*** ECG std: 0.0000: p07311_s01_Q_0573798_0008750\n",
      "53800 53900 54000 54100 54200 54300 54400 54500 54600 54700 54800 54900 55000 55100 55200 55300 55400 55500 55600 55700 55800 55900 56000 56100 56200 56300 56400 56500 56600 56700 56800 56900 57000 57100 57200 57300 57400 57500 57600 57700 57800 57900 58000 58100 58200 58300 58400 58500 58600 58700 58800 58900 59000 59100 59200 59300 59400 59500 59600 59700 59800 59900 60000 60100 60200 60300 60400 60500 60600 60700 60800 60900 61000 61100 61200 61300 61400 61500 61600 61700 61800 61900 62000 62100 62200 62300 62400 62500 62600 62700 62800 62900 63000 63100 63200 63300 63400 63500 63600 63700 63800 63900 64000 64100 64200 64300 64400 64500 64600 64700 64800 \n",
      "*** ECG std: 0.0004: p00921_s01_AFL_1005000_0008750\n",
      "64900 65000 65100 65200 65300 65400 65500 65600 65700 65800 65900 \n",
      "*** ECG std: 0.0006: p00921_s01_AFL_1012500_0008750\n",
      "66000 66100 66200 66300 66400 66500 66600 66700 66800 66900 67000 67100 67200 67300 67400 67500 67600 67700 67800 67900 68000 68100 68200 68300 68400 68500 68600 68700 68800 68900 69000 69100 69200 69300 69400 69500 69600 69700 69800 69900 70000 70100 70200 70300 70400 70500 70600 70700 70800 70900 71000 71100 71200 71300 71400 71500 71600 71700 71800 71900 72000 72100 72200 72300 72400 72500 72600 72700 72800 72900 73000 73100 73200 73300 73400 73500 73600 73700 73800 73900 74000 74100 74200 74300 74400 74500 74600 74700 74800 74900 75000 75100 75200 75300 75400 75500 75600 75700 75800 75900 76000 76100 76200 76300 76400 76500 76600 76700 76800 76900 77000 77100 77200 77300 77400 77500 77600 77700 77800 77900 78000 78100 78200 78300 78400 78500 78600 78700 78800 78900 79000 79100 79200 79300 79400 79500 79600 79700 79800 79900 80000 80000\n",
      "Total downloaded: 80000\n"
     ]
    }
   ],
   "source": [
    "ignore_existing = True\n",
    "batch_size = 20000\n",
    "stream = True\n",
    "seq_counts = {'AFIB':0, 'AFL':0, 'N':0, 'Q':0}\n",
    "download_count = 0\n",
    "total_count = 0\n",
    "target_count = 4 * batch_size\n",
    "\n",
    "print('Target count: {}'.format(target_count - sum(seq_counts.values())))\n",
    "\n",
    "open_all_master_files()\n",
    "\n",
    "while (sum(seq_counts.values()) < target_count):\n",
    "    for rtype in ic.RTYPES:\n",
    "        if (seq_counts[rtype] < batch_size):\n",
    "            sline = ordered_master_fd[rtype].readline().strip()\n",
    "            if (len(sline) == 0):\n",
    "                continue  # End of file reached\n",
    "            slist = sline.split(',')\n",
    "            patient_id = int(slist[0][1:])\n",
    "            segment_id = int(slist[1][1:])\n",
    "            start = int(slist[3])\n",
    "            length = int(slist[4])\n",
    "\n",
    "            path, file = wfu.get_local_filename(patient_id, segment_id, rtype, start, length)\n",
    "            dat_file = os.path.join(path, '{}.dat'.format(file))\n",
    "            if not os.path.isfile(dat_file):\n",
    "                if get_sequence(patient_id, segment_id, rtype, start, length, stream):\n",
    "                    download_count += 1\n",
    "                    seq_counts[rtype] += 1\n",
    "                    total_count += 1\n",
    "                    if ((total_count % 100) == 0):\n",
    "                        print('{} '.format(total_count), end='')  # Progress indicator\n",
    "            else:\n",
    "                if not ignore_existing:\n",
    "                    seq_counts[rtype] += 1\n",
    "                    total_count += 1\n",
    "                    if ((total_count % 100) == 0):\n",
    "                        print('{} '.format(total_count), end='')  # Progress indicator\n",
    "\n",
    "close_all_master_files()\n",
    "print(total_count)\n",
    "print('Total downloaded: {}'.format(download_count))"
   ]
  },
  {
   "cell_type": "code",
   "execution_count": 49,
   "id": "00bcc1b3",
   "metadata": {},
   "outputs": [],
   "source": [
    "# Close master files here in case above cell encounters an exception.\n",
    "close_all_master_files()"
   ]
  },
  {
   "cell_type": "markdown",
   "id": "e6e807f3",
   "metadata": {},
   "source": [
    "### Analysis  \n",
    "#### Run this cell to count ECG .dat files  "
   ]
  },
  {
   "cell_type": "code",
   "execution_count": 50,
   "id": "3194c0ac",
   "metadata": {},
   "outputs": [
    {
     "name": "stdout",
     "output_type": "stream",
     "text": [
      "AFL:   150000\n",
      "AFIB:  150000\n",
      "N:     150000\n",
      "Q:     150000\n",
      "Total: 600000\n"
     ]
    }
   ],
   "source": [
    "afl_count = 0\n",
    "afib_count = 0\n",
    "n_count = 0\n",
    "q_count = 0\n",
    "\n",
    "for (dirpath, dirs, files) in os.walk(ic.LOCAL_DATA_PATH):\n",
    "    for file in files:\n",
    "        if afl_dat_file_pat.match(file):\n",
    "            afl_count += 1\n",
    "        elif afib_dat_file_pat.match(file):\n",
    "            afib_count += 1\n",
    "        elif n_dat_file_pat.match(file):\n",
    "            n_count += 1\n",
    "        elif q_dat_file_pat.match(file):\n",
    "            q_count += 1\n",
    "\n",
    "print('AFL:   {}'.format(afl_count))\n",
    "print('AFIB:  {}'.format(afib_count))\n",
    "print('N:     {}'.format(n_count))\n",
    "print('Q:     {}'.format(q_count))\n",
    "print('Total: {}'.format(afl_count + afib_count + n_count + q_count))"
   ]
  },
  {
   "cell_type": "markdown",
   "id": "21fdec95",
   "metadata": {},
   "source": [
    "#### Run this cell to compute statistics on patient IDs"
   ]
  },
  {
   "cell_type": "code",
   "execution_count": 51,
   "id": "43ead096",
   "metadata": {},
   "outputs": [
    {
     "name": "stdout",
     "output_type": "stream",
     "text": [
      " ALL: Seq: 600000 PIDs: 10894  min:   8  avg:   55.1  max: 5741\n",
      "AFIB: Seq: 150000 PIDs:   727  min:   1  avg:  206.3  max: 4622\n",
      " AFL: Seq: 150000 PIDs:   494  min:   1  avg:  303.6  max: 5333\n",
      "   N: Seq: 150000 PIDs: 10259  min:   2  avg:   14.6  max: 5333\n",
      "   Q: Seq: 150000 PIDs: 10850  min:   1  avg:   13.8  max: 2031\n"
     ]
    }
   ],
   "source": [
    "pid_array = np.zeros(ic.NUM_PATIENTS, dtype=np.int32)\n",
    "afib_array = np.zeros(ic.NUM_PATIENTS, dtype=np.int32)\n",
    "afl_array = np.zeros(ic.NUM_PATIENTS, dtype=np.int32)\n",
    "n_array = np.zeros(ic.NUM_PATIENTS, dtype=np.int32)\n",
    "q_array = np.zeros(ic.NUM_PATIENTS, dtype=np.int32)\n",
    "\n",
    "for (dirpath, dirs, files) in os.walk(ic.LOCAL_DATA_PATH):\n",
    "    for file in files:\n",
    "        if afib_dat_file_pat.match(file):\n",
    "            pid = int(afib_dat_file_pat.match(file).group(1))\n",
    "            pid_array[pid] += 1\n",
    "            afib_array[pid] += 1\n",
    "        elif afl_dat_file_pat.match(file):\n",
    "            pid = int(afl_dat_file_pat.match(file).group(1))\n",
    "            pid_array[pid] += 1\n",
    "            afl_array[pid] += 1\n",
    "        elif n_dat_file_pat.match(file):\n",
    "            pid = int(n_dat_file_pat.match(file).group(1))\n",
    "            pid_array[pid] += 1\n",
    "            n_array[pid] += 1\n",
    "        elif q_dat_file_pat.match(file):\n",
    "            pid = int(q_dat_file_pat.match(file).group(1))\n",
    "            pid_array[pid] += 1\n",
    "            q_array[pid] += 1\n",
    "            \n",
    "histo_sum, histo_cnt, histo_min, histo_avg, histo_max = ic.get_histo_stats(pid_array)\n",
    "print(' ALL: Seq: {:6d} PIDs: {:5d}  min: {:3d}  avg: {:6.1f}  max: {:4d}'.format(\n",
    "        histo_sum, histo_cnt, histo_min, histo_avg, histo_max))\n",
    "histo_sum, histo_cnt, histo_min, histo_avg, histo_max = ic.get_histo_stats(afib_array)\n",
    "print('AFIB: Seq: {:6d} PIDs: {:5d}  min: {:3d}  avg: {:6.1f}  max: {:4d}'.format(\n",
    "        histo_sum, histo_cnt, histo_min, histo_avg, histo_max))\n",
    "histo_sum, histo_cnt, histo_min, histo_avg, histo_max = ic.get_histo_stats(afl_array)\n",
    "print(' AFL: Seq: {:6d} PIDs: {:5d}  min: {:3d}  avg: {:6.1f}  max: {:4d}'.format(\n",
    "        histo_sum, histo_cnt, histo_min, histo_avg, histo_max))\n",
    "histo_sum, histo_cnt, histo_min, histo_avg, histo_max = ic.get_histo_stats(n_array)\n",
    "print('   N: Seq: {:6d} PIDs: {:5d}  min: {:3d}  avg: {:6.1f}  max: {:4d}'.format(\n",
    "        histo_sum, histo_cnt, histo_min, histo_avg, histo_max))\n",
    "histo_sum, histo_cnt, histo_min, histo_avg, histo_max = ic.get_histo_stats(q_array)\n",
    "print('   Q: Seq: {:6d} PIDs: {:5d}  min: {:3d}  avg: {:6.1f}  max: {:4d}'.format(\n",
    "        histo_sum, histo_cnt, histo_min, histo_avg, histo_max))"
   ]
  },
  {
   "cell_type": "code",
   "execution_count": null,
   "id": "48387fde",
   "metadata": {},
   "outputs": [],
   "source": []
  }
 ],
 "metadata": {
  "kernelspec": {
   "display_name": "Python 3 (ipykernel)",
   "language": "python",
   "name": "python3"
  },
  "language_info": {
   "codemirror_mode": {
    "name": "ipython",
    "version": 3
   },
   "file_extension": ".py",
   "mimetype": "text/x-python",
   "name": "python",
   "nbconvert_exporter": "python",
   "pygments_lexer": "ipython3",
   "version": "3.10.10"
  }
 },
 "nbformat": 4,
 "nbformat_minor": 5
}
